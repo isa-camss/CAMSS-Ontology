{
 "cells": [
  {
   "cell_type": "code",
   "execution_count": 1,
   "id": "impaired-latest",
   "metadata": {},
   "outputs": [],
   "source": [
    "import camss\n",
    "from IPython.core.display import display, HTML"
   ]
  },
  {
   "cell_type": "markdown",
   "id": "violent-necklace",
   "metadata": {},
   "source": [
    "# <center>CAMSS Utilities</center>\n",
    "## <center>Transformation of the CAMSS Assessments, from spread-sheets to RDF-OWL</center>\n",
    "<center><img src=\"./doc/art/CAMSS Logo landscape.png\"/></center>\n",
    "<center>European Commission, ISA2 Programme, DIGIT</center>\n",
    "<center><a href=\"mailto:camss@everis.com\">camss@everis.nttdata.com</a></center>\n",
    "<center><a href=\"https://joinup.ec.europa.eu/collection/eupl/about\">UPL Licence</a><center>\n",
    "<center>Build 20210415T19:35</center>\n",
    "<center>Version 0.1</center>"
   ]
  },
  {
   "cell_type": "markdown",
   "id": "adolescent-insertion",
   "metadata": {},
   "source": [
    "---"
   ]
  },
  {
   "cell_type": "markdown",
   "id": "genetic-birthday",
   "metadata": {},
   "source": [
    "### I. Extraction of the CAMSS Assessments into 'flattened' CSV files, one per Assessment\n",
    "\n",
    "1. Use the parameter '_--xa-in_' to indicate the directory containing the corpus of CAMSS Assessments as spread-sheets (as XLS, XLSM, or ODS);\n",
    "2. Use the parameter '_--xa-out_' to indicate where to accumulate the generated flattened CSV files. If the directory and sub-directories indicated do not exist they will be created automatically."
   ]
  },
  {
   "cell_type": "code",
   "execution_count": 2,
   "id": "searching-conditioning",
   "metadata": {},
   "outputs": [
    {
     "name": "stdout",
     "output_type": "stream",
     "text": [
      "1. Extracting data from './in/ass/MSP300/CAMSS Assessment_Wheat Data Interoperability Guidelines MSP Scenario_v1.0.0.xlsm' into CSV file...done!\n",
      "2. Extracting data from './in/ass/MSP300/CAMSS Assessment RDA Data Collection API MSP_v1.0.0.xlsm' into CSV file...done!\n",
      "3. Extracting data from './in/ass/MSP300/CAMSS WDS Publishing Data Services v1.0.0(4).xlsm' into CSV file...done!\n",
      "4. Extracting data from './in/ass/MSP300/CAMSS Assessment RDA Reasearch Data Repository IoP Recommendations MSPv1.0.0.xlsm' into CSV file...done!\n",
      "5. Extracting data from './in/ass/MSP300/CAMSS Assessment RKPI MSP Scenariov1.0.0.xlsm' into CSV file...done!\n",
      "6. Extracting data from './in/ass/MSP300/CAMSS Assessment TLS 1.3 MSP Scenariov1.0.0.xlsm' into CSV file...done!\n",
      "7. Extracting data from './in/ass/EIF300/CAMSS_Assessment_JSON_EIF Scenario_v1.0.xlsm' into CSV file...done!\n",
      "8. Extracting data from './in/ass/EIF300/CAMSS Assessment_eDelivery SMP 1.10_v1.0.0.xlsm' into CSV file...done!\n",
      "9. Extracting data from './in/ass/EIF300/CAMSS Assessment_UDDI_EIF Scenario_v1.0.xlsm' into CSV file...done!\n",
      "10. Extracting data from './in/ass/EIF300/CAMSS_Assessment_XAdES_EIF Scenario_v1.0.0.xlsm' into CSV file...done!\n",
      "11. Extracting data from './in/ass/EIF300/CAMSS_Assessment_SHACL_EIF Scenario_v1.0.0.xlsm' into CSV file...done!\n",
      "12. Extracting data from './in/ass/EIF300/CAMSS Assessment_ASiC Baseline Profile_EIF Scenario_v.1.0.0.xlsm' into CSV file...done!\n",
      "13. Extracting data from './in/ass/EIF300/CAMSS_Assessment_HTTP 1.1_EIF Scenario_v1.0.0.xlsm' into CSV file...done!\n",
      "14. Extracting data from './in/ass/EIF300/CAMSS_Assessment_XML 1.1_EIF Scenario_v1.0.0.xlsm' into CSV file...done!\n",
      "15. Extracting data from './in/ass/EIF300/CAMSS_Assessment_XSLT_EIF Scenario_v1.0.xlsm' into CSV file...done!\n",
      "16. Extracting data from './in/ass/EIF300/CAMSS Assessment_IPv4_EIF Scenario_v1.0.xlsm' into CSV file...done!\n",
      "17. Extracting data from './in/ass/EIF300/CAMSS Assessment_WSDL_EIF Scenario_v1.0.xlsm' into CSV file...done!\n",
      "18. Extracting data from './in/ass/EIF300/CAMSS Assessment_EIF Scenario_CAdES Baseline Profile_v.1.0.0.xlsm' into CSV file...done!\n",
      "19. Extracting data from './in/ass/EIF300/CAMSS_Assessment_SOAP 1.2_EIF Scenario_v1.0.xlsm' into CSV file...done!\n",
      "20. Extracting data from './in/ass/EIF300/CAMSS_Assessment_WSS_v1.0.xlsm' into CSV file...done!\n",
      "21. Extracting data from './in/ass/EIF300/CAMSS Assessment_DCAT-AP_EIF Scenario_v1.0.0.xlsm' into CSV file...done!\n",
      "22. Extracting data from './in/ass/EIF300/CAMSS Assessment_IPSec_EIF Scenario_v1.0.xlsm' into CSV file...done!\n",
      "23. Extracting data from './in/ass/EIF300/CAMSS_Assessment_PDF 1.7_EIF Scenario_v1.0.xlsm' into CSV file...done!\n",
      "24. Extracting data from './in/ass/EIF300/CAMSS Assessment of XSD 1.1v.1.0.0.xlsm' into CSV file...done!\n",
      "25. Extracting data from './in/ass/EIF300/CAMSS Assessment_UTF-8_EIF Scenario_v1.0.xlsm' into CSV file...done!\n",
      "26. Extracting data from './in/ass/EIF300/CAMSS Assessment_DCAT_EIF Scenario_v1.0.0.xlsm' into CSV file...done!\n",
      "27. Extracting data from './in/ass/EIF300/CAMSS Assessment_RDF_EIF Scenario_v1.0.xlsm' into CSV file...done!\n",
      "28. Extracting data from './in/ass/EIF300/CAMSS_Assessment_CSV_EIF Scenario_v1.0.xlsm' into CSV file...done!\n",
      "29. Extracting data from './in/ass/EIF300/CAMSS Assessment_DNS_EIF Scenario_v1.0.0.xlsm' into CSV file...done!\n",
      "30. Extracting data from './in/ass/EIF300/CAMSS Assessment_EIF Scenario_PAdES_v.1.0.0.xlsm' into CSV file...done!\n",
      "31. Extracting data from './in/ass/EIF300/CAMSS Assessment_TLS 1.2_EIF Scenario_v1.0.xlsm' into CSV file...done!\n",
      "32. Extracting data from './in/ass/EIF300/CAMSS Assessment_IPv6_EIF Scenario_v1.0.0.xlsm' into CSV file...done!\n",
      "33. Extracting data from './in/ass/EIF300/CAMSS Assessment_FTP_EIF Scenario_v1.0.0.xlsm' into CSV file...done!\n",
      "34. Extracting data from './in/ass/EIF300/CAMSS_Assessment_HTML5 0.1_EIF Scenario_v1.0.xlsm' into CSV file...done!\n",
      "35. Extracting data from './in/ass/EIF300/CAMSS_Assessment_SAML 2.0_EIF Scenario_v1.0.xlsm' into CSV file...done!\n",
      "36. Extracting data from './in/ass/EIF300/CAMSS_Assessment_HTTPS_EIF Scenario_v1.0.0.xlsm' into CSV file...done!\n",
      "37. Extracting data from './in/ass/EIF310/CAMSS_Assessment_PAdES_EIF Scenario_v1.0.0.xlsm' into CSV file...done!\n",
      "38. Extracting data from './in/ass/EIF310/CAMSS_Assessment_OpenPM2_EIF Scenario_v1.0.0.xlsm' into CSV file...done!\n",
      "39. Extracting data from './in/ass/EIF310/CAMSS_Assessment_XAdES_EIF Scenario_v1.0.0.xlsm' into CSV file...done!\n",
      "40. Extracting data from './in/ass/EIF310/CAMSS_Assessment_JPEG_EIF Scenario_v1.0.0.xlsm' into CSV file...done!\n",
      "41. Extracting data from './in/ass/EIF310/CAMSS_Assessment_CAdES_EIF Scenario_v1.0.0.xlsm' into CSV file...done!\n",
      "42. Extracting data from './in/ass/EIF310/CAMSS_Assessment_WS-BPEL_EIF Scenario_v1.0.0.xlsm' into CSV file...done!\n",
      "43. Extracting data from './in/ass/EIF310/CAMSS_Assessment_BP_WebData_EIF Scenario_v1.0.0.xlsm' into CSV file...done!\n",
      "44. Extracting data from './in/ass/EIF310/CAMSS_Assessment_CLV_EIF Scenario_v1.0.0.xlsm' into CSV file...done!\n",
      "45. Extracting data from './in/ass/EIF310/CAMSS_Assessment_EuroVoc_EIF Scenario_v1.0.0.xlsm' into CSV file...done!\n",
      "46. Extracting data from './in/ass/EIF310/CAMSS_Assessment_Ogg_EIF Scenario_v1.0.0.xlsm' into CSV file...done!\n",
      "47. Extracting data from './in/ass/EIF310/CAMSS_Assessment_SVG_EIF Scenario_v1.0.0.xlsm' into CSV file...done!\n",
      "48. Extracting data from './in/ass/EIF310/CAMSS_Assessment_Xforms 2.0_EIF Scenario_v1.0.0.xlsm' into CSV file...done!\n",
      "49. Extracting data from './in/ass/EIF310/CAMSS_Assessment_SMP 2.0_EIF Scenario_v1.0.0.xlsm' into CSV file...done!\n",
      "50. Extracting data from './in/ass/EIF310/CAMSS_Assessment_ELI_EIF Scenario_v1.0.0.xlsm' into CSV file...done!\n",
      "51. Extracting data from './in/ass/EIF310/CAMSS_Assessment_HTML4_EIF Scenario_v1.0.0.xlsm' into CSV file...done!\n",
      "52. Extracting data from './in/ass/EIF310/CAMSS_Assessment_SAMM_EIF Scenario_v1.0.xlsm' into CSV file...done!\n",
      "53. Extracting data from './in/ass/EIF310/CAMSS_Assessment_LegalRuleML_EIF Scenario_v1.0.xlsm' into CSV file...done!\n",
      "54. Extracting data from './in/ass/EIF310/CAMSS_Assessment_PDF_A_EIF Scenario_v1.0.0.xlsm' into CSV file...done!\n",
      "55. Extracting data from './in/ass/EIF310/CAMSS_Assessment_OWL2_EIF Scenario_v1.0.0.xlsm' into CSV file...done!\n",
      "56. Extracting data from './in/ass/EIF310/CAMSS_Assessment_ODF 1.2_EIF Scenario_v1.0.0.xlsm' into CSV file...done!\n",
      "57. Extracting data from './in/ass/EIF310/CAMSS_Assessment_ADMS_EIF Scenario_v1.0.0.xlsm' into CSV file...done!\n",
      "58. Extracting data from './in/ass/EIF310/CAMSS_Assessment_FTPS_EIF Scenario_v1.0.0.xlsm' into CSV file...done!\n",
      "59. Extracting data from './in/ass/EIF310/CAMSS_Assessment_LDAP_EIF Scenario_v1.0.0.xlsm' into CSV file...done!\n",
      "60. Extracting data from './in/ass/EIF310/CAMSS_Assessment_TSP_EIF Scenario_v1.0.xlsm' into CSV file...done!\n",
      "61. Extracting data from './in/ass/EIF310/CAMSS_Assessment_CPSV-AP_EIF Scenario_v1.0.0.xlsm' into CSV file...done!\n",
      "62. Extracting data from './in/ass/EIF310/CAMSS_Assessment_XACML_EIF Scenario_v1.0.0.xlsm' into CSV file...done!\n",
      "63. Extracting data from './in/ass/EIF310/CAMSS Assessment ODLR 2.2_EIF Scenario_v1.0.0.xlsm' into CSV file...done!\n",
      "64. Extracting data from './in/ass/EIF310/CAMSS_Assessment_RegOrg_EIF Scenario_v1.0.0.xlsm' into CSV file...done!\n",
      "65. Extracting data from './in/ass/EIF310/CAMSS_Assessment_PNG_EIF Scenario_v1.0.0.xlsm' into CSV file...done!\n",
      "66. Extracting data from './in/ass/EIF310/CAMSS_Assessment_SMTP_EIF Scenario_v1.0.0.xlsm' into CSV file...done!\n",
      "67. Extracting data from './in/ass/EIF310/CAMSS_Assessment_Better_Regulation_Toolbox_EIF Scenario_Release Notes_v1.0.0.xlsm' into CSV file...done!\n",
      "68. Extracting data from './in/ass/EIF310/CAMSS Assessment - Standard for Public Code v1.xlsm' into CSV file...done!\n",
      "69. Extracting data from './in/ass/EIF310/CAMSS_Assessment_TIFF_IT_EIF Scenario_v1.0.0.xlsm' into CSV file...done!\n",
      "70. Extracting data from './in/ass/EIF310/CAMSS_Assessment_MIME_EIF Scenario_v1.0.0.xlsm' into CSV file...done!\n",
      "71. Extracting data from './in/ass/EIF310/CAMSS_Assessment_CSS 2.1_EIF Scenario_v1.0.0.xlsm' into CSV file...done!\n",
      "72. Extracting data from './in/ass/EIF310/CAMSS_Assessment_XHTML_EIF Scenario_v1.0.0.xlsm' into CSV file...done!\n",
      "73. Extracting data from './in/ass/EIF310/CAMSS_Assessment_LegalDocML_EIF Scenario_v1.0.xlsm' into CSV file...done!\n",
      "74. Extracting data from './in/ass/EIF310/CAMSS_Assessment_CCCEV_EIF Scenario_v1.0.0.xlsm' into CSV file...done!\n",
      "75. Extracting data from './in/ass/EIF310/CAMSS_Assessment_CPOV_EIF Scenario_v1.0.0.xlsm' into CSV file...done!\n",
      "All CSV files successfully created!\n"
     ]
    }
   ],
   "source": [
    "camss.run({'--xa-in': './in/ass', '--xa-out': './out/ass/csv'})"
   ]
  },
  {
   "cell_type": "markdown",
   "id": "massive-newport",
   "metadata": {},
   "source": [
    "---"
   ]
  },
  {
   "cell_type": "markdown",
   "id": "dress-blogger",
   "metadata": {},
   "source": [
    "## II. Population of the CAMSS Knowldege Graph with the CAMSS Assessments \n",
    "\n",
    "The Assessments are converted to RDF-OWL, one TTL file per Assessment. \n",
    "A Graph is created with the prefix and namespace _@prefix camssa: \\<http://data.europa.eu/2sa/assessments/>._\n",
    "\n",
    "<u>usage</u>:\n",
    "\n",
    "1. Use the parameter '_--ta-in_' to indicate the directory containing the flattened CSV CAMSS Assessments resulting from the extraction (performed in the previous step);\n",
    "2. Use the parameter '_--ta-out_' to indicate where to accumulate the generated Turtle (TTL) files. If the directory and sub-directories indicated do not exist they will be created automatically."
   ]
  },
  {
   "cell_type": "code",
   "execution_count": 3,
   "id": "fantastic-contemporary",
   "metadata": {},
   "outputs": [
    {
     "name": "stdout",
     "output_type": "stream",
     "text": [
      "1. Transforming and saving the data from './out/ass/csv/MSP-3.0.0-CAMSS Assessment RKPI MSP Scenariov1.0.0.csv' into a TTL file...done!\n",
      "2. Transforming and saving the data from './out/ass/csv/MSP-3.0.0-CAMSS Assessment RDA Data Collection API MSP_v1.0.0.csv' into a TTL file...done!\n",
      "3. Transforming and saving the data from './out/ass/csv/EIF-3.1.0-CAMSS_Assessment_FTPS_EIF Scenario_v1.0.0.csv' into a TTL file...done!\n",
      "4. Transforming and saving the data from './out/ass/csv/EIF-3.1.0-CAMSS_Assessment_XHTML_EIF Scenario_v1.0.0.csv' into a TTL file...done!\n",
      "5. Transforming and saving the data from './out/ass/csv/EIF-3.0.0-CAMSS Assessment_DNS_EIF Scenario_v1.0.0.csv' into a TTL file...done!\n",
      "6. Transforming and saving the data from './out/ass/csv/EIF-3.0.0-CAMSS_Assessment_XML 1.1_EIF Scenario_v1.0.0.csv' into a TTL file...done!\n",
      "7. Transforming and saving the data from './out/ass/csv/EIF-3.0.0-CAMSS_Assessment_WSS_v1.0.csv' into a TTL file...done!\n",
      "8. Transforming and saving the data from './out/ass/csv/EIF-3.1.0-CAMSS_Assessment_LegalRuleML_EIF Scenario_v1.0.csv' into a TTL file...done!\n",
      "9. Transforming and saving the data from './out/ass/csv/EIF-3.1.0-CAMSS_Assessment_EuroVoc_EIF Scenario_v1.0.0.csv' into a TTL file...done!\n",
      "10. Transforming and saving the data from './out/ass/csv/EIF-3.0.0-CAMSS Assessment_IPSec_EIF Scenario_v1.0.csv' into a TTL file...done!\n",
      "11. Transforming and saving the data from './out/ass/csv/EIF-3.1.0-CAMSS_Assessment_ODF 1.2_EIF Scenario_v1.0.0.csv' into a TTL file...done!\n",
      "12. Transforming and saving the data from './out/ass/csv/EIF-3.1.0-CAMSS Assessment - Standard for Public Code v1.csv' into a TTL file...done!\n",
      "13. Transforming and saving the data from './out/ass/csv/EIF-3.1.0-CAMSS_Assessment_CLV_EIF Scenario_v1.0.0.csv' into a TTL file...done!\n",
      "14. Transforming and saving the data from './out/ass/csv/EIF-3.1.0-CAMSS_Assessment_PDF_A_EIF Scenario_v1.0.0.csv' into a TTL file...done!\n",
      "15. Transforming and saving the data from './out/ass/csv/EIF-3.1.0-CAMSS_Assessment_SMTP_EIF Scenario_v1.0.0.csv' into a TTL file...done!\n",
      "16. Transforming and saving the data from './out/ass/csv/EIF-3.1.0-CAMSS_Assessment_Better_Regulation_Toolbox_EIF Scenario_Release Notes_v1.0.0.csv' into a TTL file...done!\n",
      "17. Transforming and saving the data from './out/ass/csv/EIF-3.0.0-CAMSS Assessment_WSDL_EIF Scenario_v1.0.csv' into a TTL file...done!\n",
      "18. Transforming and saving the data from './out/ass/csv/EIF-3.0.0-CAMSS_Assessment_HTTP 1.1_EIF Scenario_v1.0.0.csv' into a TTL file...done!\n",
      "19. Transforming and saving the data from './out/ass/csv/EIF-3.1.0-CAMSS_Assessment_HTML4_EIF Scenario_v1.0.0.csv' into a TTL file...done!\n",
      "20. Transforming and saving the data from './out/ass/csv/EIF-3.0.0-CAMSS_Assessment_SOAP 1.2_EIF Scenario_v1.0.csv' into a TTL file...done!\n",
      "21. Transforming and saving the data from './out/ass/csv/EIF-3.1.0-CAMSS_Assessment_LegalDocML_EIF Scenario_v1.0.csv' into a TTL file...done!\n",
      "22. Transforming and saving the data from './out/ass/csv/EIF-3.0.0-CAMSS_Assessment_XAdES_EIF Scenario_v1.0.0.csv' into a TTL file...done!\n",
      "23. Transforming and saving the data from './out/ass/csv/EIF-3.1.0-CAMSS_Assessment_SVG_EIF Scenario_v1.0.0.csv' into a TTL file...done!\n",
      "24. Transforming and saving the data from './out/ass/csv/MSP-3.0.0-CAMSS WDS Publishing Data Services v1.0.0(4).csv' into a TTL file...done!\n",
      "25. Transforming and saving the data from './out/ass/csv/EIF-3.0.0-CAMSS_Assessment_SHACL_EIF Scenario_v1.0.0.csv' into a TTL file...done!\n",
      "26. Transforming and saving the data from './out/ass/csv/EIF-3.1.0-CAMSS_Assessment_RegOrg_EIF Scenario_v1.0.0.csv' into a TTL file...done!\n",
      "27. Transforming and saving the data from './out/ass/csv/EIF-3.1.0-CAMSS_Assessment_CPOV_EIF Scenario_v1.0.0.csv' into a TTL file...done!\n",
      "28. Transforming and saving the data from './out/ass/csv/EIF-3.0.0-CAMSS Assessment_FTP_EIF Scenario_v1.0.0.csv' into a TTL file...done!\n",
      "29. Transforming and saving the data from './out/ass/csv/EIF-3.0.0-CAMSS Assessment_RDF_EIF Scenario_v1.0.csv' into a TTL file...done!\n",
      "30. Transforming and saving the data from './out/ass/csv/EIF-3.1.0-CAMSS_Assessment_Xforms 2.0_EIF Scenario_v1.0.0.csv' into a TTL file...done!\n",
      "31. Transforming and saving the data from './out/ass/csv/EIF-3.1.0-CAMSS_Assessment_ADMS_EIF Scenario_v1.0.0.csv' into a TTL file...done!\n",
      "32. Transforming and saving the data from './out/ass/csv/EIF-3.0.0-CAMSS Assessment_EIF Scenario_PAdES_v.1.0.0.csv' into a TTL file...done!\n",
      "33. Transforming and saving the data from './out/ass/csv/EIF-3.1.0-CAMSS_Assessment_MIME_EIF Scenario_v1.0.0.csv' into a TTL file...done!\n",
      "34. Transforming and saving the data from './out/ass/csv/EIF-3.1.0-CAMSS_Assessment_SMP 2.0_EIF Scenario_v1.0.0.csv' into a TTL file...done!\n",
      "35. Transforming and saving the data from './out/ass/csv/EIF-3.1.0-CAMSS_Assessment_PAdES_EIF Scenario_v1.0.0.csv' into a TTL file...done!\n",
      "36. Transforming and saving the data from './out/ass/csv/EIF-3.1.0-CAMSS_Assessment_BP_WebData_EIF Scenario_v1.0.0.csv' into a TTL file...done!\n",
      "37. Transforming and saving the data from './out/ass/csv/EIF-3.0.0-CAMSS Assessment_TLS 1.2_EIF Scenario_v1.0.csv' into a TTL file...done!\n",
      "38. Transforming and saving the data from './out/ass/csv/EIF-3.1.0-CAMSS_Assessment_SAMM_EIF Scenario_v1.0.csv' into a TTL file...done!\n",
      "39. Transforming and saving the data from './out/ass/csv/MSP-3.0.0-CAMSS Assessment TLS 1.3 MSP Scenariov1.0.0.csv' into a TTL file...done!\n",
      "40. Transforming and saving the data from './out/ass/csv/EIF-3.1.0-CAMSS_Assessment_LDAP_EIF Scenario_v1.0.0.csv' into a TTL file...done!\n",
      "41. Transforming and saving the data from './out/ass/csv/EIF-3.0.0-CAMSS Assessment_EIF Scenario_CAdES Baseline Profile_v.1.0.0.csv' into a TTL file...done!\n",
      "42. Transforming and saving the data from './out/ass/csv/EIF-3.0.0-CAMSS Assessment_eDelivery SMP 1.10_v1.0.0.csv' into a TTL file...done!\n",
      "43. Transforming and saving the data from './out/ass/csv/EIF-3.0.0-CAMSS_Assessment_SAML 2.0_EIF Scenario_v1.0.csv' into a TTL file...done!\n",
      "44. Transforming and saving the data from './out/ass/csv/EIF-3.1.0-CAMSS_Assessment_ELI_EIF Scenario_v1.0.0.csv' into a TTL file...done!\n",
      "45. Transforming and saving the data from './out/ass/csv/EIF-3.0.0-CAMSS Assessment_IPv4_EIF Scenario_v1.0.csv' into a TTL file...done!\n",
      "46. Transforming and saving the data from './out/ass/csv/EIF-3.1.0-CAMSS_Assessment_WS-BPEL_EIF Scenario_v1.0.0.csv' into a TTL file...done!\n",
      "47. Transforming and saving the data from './out/ass/csv/EIF-3.0.0-CAMSS_Assessment_PDF 1.7_EIF Scenario_v1.0.csv' into a TTL file...done!\n",
      "48. Transforming and saving the data from './out/ass/csv/MSP-3.0.0-CAMSS Assessment RDA Reasearch Data Repository IoP Recommendations MSPv1.0.0.csv' into a TTL file...done!\n",
      "49. Transforming and saving the data from './out/ass/csv/EIF-3.1.0-CAMSS_Assessment_CSS 2.1_EIF Scenario_v1.0.0.csv' into a TTL file...done!\n",
      "50. Transforming and saving the data from './out/ass/csv/EIF-3.0.0-CAMSS Assessment_ASiC Baseline Profile_EIF Scenario_v.1.0.0.csv' into a TTL file...done!\n",
      "51. Transforming and saving the data from './out/ass/csv/EIF-3.0.0-CAMSS_Assessment_HTML5 0.1_EIF Scenario_v1.0.csv' into a TTL file...done!\n",
      "52. Transforming and saving the data from './out/ass/csv/EIF-3.1.0-CAMSS_Assessment_OWL2_EIF Scenario_v1.0.0.csv' into a TTL file...done!\n",
      "53. Transforming and saving the data from './out/ass/csv/EIF-3.1.0-CAMSS_Assessment_TIFF_IT_EIF Scenario_v1.0.0.csv' into a TTL file...done!\n",
      "54. Transforming and saving the data from './out/ass/csv/EIF-3.1.0-CAMSS_Assessment_CAdES_EIF Scenario_v1.0.0.csv' into a TTL file...done!\n",
      "55. Transforming and saving the data from './out/ass/csv/EIF-3.0.0-CAMSS Assessment of XSD 1.1v.1.0.0.csv' into a TTL file...done!\n",
      "56. Transforming and saving the data from './out/ass/csv/MSP-3.0.0-CAMSS Assessment_Wheat Data Interoperability Guidelines MSP Scenario_v1.0.0.csv' into a TTL file...done!\n",
      "57. Transforming and saving the data from './out/ass/csv/EIF-3.0.0-CAMSS_Assessment_CSV_EIF Scenario_v1.0.csv' into a TTL file...done!\n",
      "58. Transforming and saving the data from './out/ass/csv/EIF-3.0.0-CAMSS Assessment_UDDI_EIF Scenario_v1.0.csv' into a TTL file...done!\n",
      "59. Transforming and saving the data from './out/ass/csv/EIF-3.1.0-CAMSS_Assessment_PNG_EIF Scenario_v1.0.0.csv' into a TTL file...done!\n",
      "60. Transforming and saving the data from './out/ass/csv/EIF-3.1.0-CAMSS_Assessment_XAdES_EIF Scenario_v1.0.0.csv' into a TTL file...done!\n",
      "61. Transforming and saving the data from './out/ass/csv/EIF-3.1.0-CAMSS_Assessment_Ogg_EIF Scenario_v1.0.0.csv' into a TTL file...done!\n",
      "62. Transforming and saving the data from './out/ass/csv/EIF-3.1.0-CAMSS_Assessment_XACML_EIF Scenario_v1.0.0.csv' into a TTL file...done!\n",
      "63. Transforming and saving the data from './out/ass/csv/EIF-3.1.0-CAMSS_Assessment_JPEG_EIF Scenario_v1.0.0.csv' into a TTL file...done!\n",
      "64. Transforming and saving the data from './out/ass/csv/EIF-3.1.0-CAMSS_Assessment_CPSV-AP_EIF Scenario_v1.0.0.csv' into a TTL file...done!\n",
      "65. Transforming and saving the data from './out/ass/csv/EIF-3.1.0-CAMSS_Assessment_TSP_EIF Scenario_v1.0.csv' into a TTL file...done!\n",
      "66. Transforming and saving the data from './out/ass/csv/EIF-3.0.0-CAMSS Assessment_DCAT_EIF Scenario_v1.0.0.csv' into a TTL file...done!\n",
      "67. Transforming and saving the data from './out/ass/csv/EIF-3.0.0-CAMSS Assessment_IPv6_EIF Scenario_v1.0.0.csv' into a TTL file...done!\n",
      "68. Transforming and saving the data from './out/ass/csv/EIF-3.1.0-CAMSS_Assessment_OpenPM2_EIF Scenario_v1.0.0.csv' into a TTL file...done!\n",
      "69. Transforming and saving the data from './out/ass/csv/EIF-3.0.0-CAMSS Assessment_UTF-8_EIF Scenario_v1.0.csv' into a TTL file...done!\n",
      "70. Transforming and saving the data from './out/ass/csv/EIF-3.0.0-CAMSS Assessment_DCAT-AP_EIF Scenario_v1.0.0.csv' into a TTL file...done!\n",
      "71. Transforming and saving the data from './out/ass/csv/EIF-3.0.0-CAMSS_Assessment_JSON_EIF Scenario_v1.0.csv' into a TTL file...done!\n",
      "72. Transforming and saving the data from './out/ass/csv/EIF-3.0.0-CAMSS_Assessment_XSLT_EIF Scenario_v1.0.csv' into a TTL file...done!\n",
      "73. Transforming and saving the data from './out/ass/csv/EIF-3.1.0-CAMSS_Assessment_CCCEV_EIF Scenario_v1.0.0.csv' into a TTL file...done!\n",
      "74. Transforming and saving the data from './out/ass/csv/EIF-3.0.0-CAMSS_Assessment_HTTPS_EIF Scenario_v1.0.0.csv' into a TTL file...done!\n",
      "75. Transforming and saving the data from './out/ass/csv/EIF-3.1.0-CAMSS Assessment ODLR 2.2_EIF Scenario_v1.0.0.csv' into a TTL file...done!\n",
      "Done! All assessments successfully converted to OWL Turtle!\n"
     ]
    }
   ],
   "source": [
    "camss.run({'--ta-in': './out/ass/csv', '--ta-out': './out/ass/ttl'})"
   ]
  },
  {
   "cell_type": "markdown",
   "id": "geographic-suspension",
   "metadata": {},
   "source": [
    "---"
   ]
  },
  {
   "cell_type": "markdown",
   "id": "corresponding-creature",
   "metadata": {},
   "source": [
    "## III. Population of the CAMSS Knowldege Graph with the CAMSS Scenarios and Criteria \n",
    "\n",
    "The Assessments, once flattened as CSV files, are used to extract the scenario and criteria existing and \n",
    "populate the CAMSS Knowledge Graph with them. \n",
    "\n",
    "The graph used to keep scenarios and criteria uses the prefix and namespace _@prefix sc: \\<http://data.europa.eu/2sa/scenarios#>._\n",
    "\n",
    "<u>usage</u>:\n",
    "\n",
    "1. Use the parameter '_--tc-in_' to indicate the directory containing the flattened CSV CAMSS Assessments resulting from the extraction (performed in the previous step);\n",
    "2. Use the parameter '_--tc-out_' to indicate where to accumulate the generated Turtle (TTL) files. If the directory and sub-directories indicated do not exist they will be created automatically."
   ]
  },
  {
   "cell_type": "code",
   "execution_count": 4,
   "id": "animated-engagement",
   "metadata": {},
   "outputs": [
    {
     "name": "stdout",
     "output_type": "stream",
     "text": [
      "1. Capturing scenario and criteria into \"./out/crit/ttl/MSP-3.0.0-criteria.ttl\" (from assessment \"./out/ass/csv/MSP-3.0.0-CAMSS Assessment RKPI MSP Scenariov1.0.0.csv\")...done!\n",
      "2. Capturing scenario and criteria into \"./out/crit/ttl/EIF-3.1.0-criteria.ttl\" (from assessment \"./out/ass/csv/EIF-3.1.0-CAMSS_Assessment_FTPS_EIF Scenario_v1.0.0.csv\")...done!\n",
      "3. Capturing scenario and criteria into \"./out/crit/ttl/EIF-3.0.0-criteria.ttl\" (from assessment \"./out/ass/csv/EIF-3.0.0-CAMSS Assessment_DNS_EIF Scenario_v1.0.0.csv\")...done!\n",
      "Done! All scenarios and criteria successfully converted to OWL Turtle!\n"
     ]
    }
   ],
   "source": [
    "camss.run({'--tc-in': './out/ass/csv', '--tc-out': './out/crit/ttl'})"
   ]
  },
  {
   "cell_type": "markdown",
   "id": "informed-appearance",
   "metadata": {},
   "source": [
    "---"
   ]
  },
  {
   "cell_type": "markdown",
   "id": "secure-liberty",
   "metadata": {},
   "source": [
    "## IV. Population of the CAMSS Knowledge Graph with the Specifications and Standards identified by the CAMSS Team\n",
    "\n",
    "The Assessments, once flattened as CSV files, are used to extract the standards and specifications existing and \n",
    "populate the CAMSS Knowledge Graph with them. \n",
    "\n",
    "The graph used to keep specifications and standards uses the prefix and namespace _@prefix sc: \\<@prefix rsc: <http://data.europa.eu/2sa/cssv/rsc/>._\n",
    "\n",
    "<u>usage</u>:\n",
    "\n",
    "1. Use the parameter '_--tc-in_' to indicate the directory containing the flattened CSV CAMSS Assessments resulting from the extraction (performed in the previous step);\n",
    "2. Use the parameter '_--tc-out_' to indicate where to accumulate the generated Turtle (TTL) files. If the directory and sub-directories indicated do not exist they will be created automatically."
   ]
  },
  {
   "cell_type": "code",
   "execution_count": 5,
   "id": "personalized-limitation",
   "metadata": {},
   "outputs": [
    {
     "name": "stdout",
     "output_type": "stream",
     "text": [
      "1. Extracting specification-related data from the Assessment ./out/specs/ttl/Resource_Public_Key_Infrastructure.ttl ... Done!\n",
      "2. Extracting specification-related data from the Assessment ./out/specs/ttl/Data_Collections_API.ttl ... Done!\n",
      "3. Extracting specification-related data from the Assessment ./out/specs/ttl/File_Transfer_Protocol_over_Transport_Layer_Security_(FTPS_or_FTP_over_TLS).ttl ... Done!\n",
      "4. Extracting specification-related data from the Assessment ./out/specs/ttl/Extensible_HyperText_Markup_Language_(XHTML)_v1.0.ttl ... Done!\n",
      "5. Extracting specification-related data from the Assessment ./out/specs/ttl/Domain_Name_System_(DNS).ttl ... Done!\n",
      "6. Extracting specification-related data from the Assessment ./out/specs/ttl/XML__Extensible_Markup_Language_1.1.ttl ... Done!\n",
      "7. Extracting specification-related data from the Assessment ./out/specs/ttl/WS-Security_(Web_Services_Security).ttl ... Done!\n",
      "8. Extracting specification-related data from the Assessment ./out/specs/ttl/LegalRuleML.ttl ... Done!\n",
      "9. Extracting specification-related data from the Assessment ./out/specs/ttl/Eurovoc.ttl ... Done!\n",
      "10. Extracting specification-related data from the Assessment ./out/specs/ttl/Internet_Protocol_Security_(IPSec).ttl ... Done!\n",
      "11. Extracting specification-related data from the Assessment ./out/specs/ttl/Open_Document_Format_for_Office_Applications_(ODF)_v1.2.ttl ... Done!\n",
      "12. Extracting specification-related data from the Assessment ./out/specs/ttl/Standard_for_Public_Code.ttl ... Done!\n",
      "13. Extracting specification-related data from the Assessment ./out/specs/ttl/Core_Location_Vocabulary_(CLV)_v1.0.ttl ... Done!\n",
      "14. Extracting specification-related data from the Assessment ./out/specs/ttl/Portable_Document_Format-A_(PDF-A).ttl ... Done!\n",
      "15. Extracting specification-related data from the Assessment ./out/specs/ttl/Simple_Mail_Transfer_Protocol_(SMTP).ttl ... Done!\n",
      "16. Extracting specification-related data from the Assessment ./out/specs/ttl/Better_Regulation_Toolbox.ttl ... Done!\n",
      "17. Extracting specification-related data from the Assessment ./out/specs/ttl/Web_Services_Description_Language_(WSDL).ttl ... Done!\n",
      "18. Extracting specification-related data from the Assessment ./out/specs/ttl/Hypertext_Transfer_Protocol_HTTP_1.1.ttl ... Done!\n",
      "19. Extracting specification-related data from the Assessment ./out/specs/ttl/Hypertext_Markup_Language_(HTML)_v4.01.ttl ... Done!\n",
      "20. Extracting specification-related data from the Assessment ./out/specs/ttl/SOAP.ttl ... Done!\n",
      "21. Extracting specification-related data from the Assessment ./out/specs/ttl/LegalDocML.ttl ... Done!\n",
      "22. Extracting specification-related data from the Assessment ./out/specs/ttl/XAdES_Baseline_Profile.ttl ... Done!\n",
      "23. Extracting specification-related data from the Assessment ./out/specs/ttl/Scalable_Vector_Graphics_(SVG)_v1.1_(Second_Edition).ttl ... Done!\n",
      "24. Extracting specification-related data from the Assessment ./out/specs/ttl/WDS_Publishing_Data_Services.ttl ... Done!\n",
      "25. Extracting specification-related data from the Assessment ./out/specs/ttl/SHACL__Shapes_constraint_language.ttl ... Done!\n",
      "26. Extracting specification-related data from the Assessment ./out/specs/ttl/Registered_Organization_Vocabulary_(RegOrg).ttl ... Done!\n",
      "27. Extracting specification-related data from the Assessment ./out/specs/ttl/Core_Public_Organisation_Vocabulary_(CPOV).ttl ... Done!\n",
      "28. Extracting specification-related data from the Assessment ./out/specs/ttl/File_Transfer_Protocol_(FTP).ttl ... Done!\n",
      "29. Extracting specification-related data from the Assessment ./out/specs/ttl/Resource_Description_Framework_1.1_(RDF_1.1).ttl ... Done!\n",
      "30. Extracting specification-related data from the Assessment ./out/specs/ttl/Xforms_2.0.ttl ... Done!\n",
      "31. Extracting specification-related data from the Assessment ./out/specs/ttl/Asset_Description_Metadata_Schema_(ADMS).ttl ... Done!\n",
      "32. Extracting specification-related data from the Assessment ./out/specs/ttl/Electronic_Signatures_and_Infrastructures_(ESI)-\n",
      "PAdES_Baseline_Profile.ttl ... Done!\n",
      "33. Extracting specification-related data from the Assessment ./out/specs/ttl/Multipurpose_Internet_Mail_Extensions_(MIME).ttl ... Done!\n",
      "34. Extracting specification-related data from the Assessment ./out/specs/ttl/Service_Metadata_Publishing_(SMP)_Version_2.0.ttl ... Done!\n",
      "35. Extracting specification-related data from the Assessment ./out/specs/ttl/PDF_Advanced_Electronic_Signatures_(PAdES)_-_ISO_14533-3-2017.ttl ... Done!\n",
      "36. Extracting specification-related data from the Assessment ./out/specs/ttl/Data_on_the_Web_Best_Practices_W3C.ttl ... Done!\n",
      "37. Extracting specification-related data from the Assessment ./out/specs/ttl/Transport_Layer_Security_(TLS).ttl ... Done!\n",
      "38. Extracting specification-related data from the Assessment ./out/specs/ttl/OWASP_SAMM.ttl ... Done!\n",
      "39. Extracting specification-related data from the Assessment ./out/specs/ttl/Transport_Layer_Security_1.3_(TLS_1.3).ttl ... Done!\n",
      "40. Extracting specification-related data from the Assessment ./out/specs/ttl/Lightweight_Directory_Access_Protocol_(LDAP).ttl ... Done!\n",
      "41. Extracting specification-related data from the Assessment ./out/specs/ttl/Electronic_Signatures_and_Infrastructures_(ESI)-\n",
      "CAdES_Baseline_Profile.ttl ... Done!\n",
      "42. Extracting specification-related data from the Assessment ./out/specs/ttl/eDelivery_SMP_1.10.ttl ... Done!\n",
      "43. Extracting specification-related data from the Assessment ./out/specs/ttl/SAML_2.0_(Security_Assertion_Markup_Language_(SAML)_V2.0).ttl ... Done!\n",
      "44. Extracting specification-related data from the Assessment ./out/specs/ttl/European_Legislation_Identifier_(ELI).ttl ... Done!\n",
      "45. Extracting specification-related data from the Assessment ./out/specs/ttl/Internet_Protocol_version_4_(IPv4).ttl ... Done!\n",
      "46. Extracting specification-related data from the Assessment ./out/specs/ttl/Web_Services_Business_Process_Execution_Language_(WS-BPEL)_v2.0.ttl ... Done!\n",
      "47. Extracting specification-related data from the Assessment ./out/specs/ttl/Portable_Document_Format_v_1.7_(PDF_1.7).ttl ... Done!\n",
      "48. Extracting specification-related data from the Assessment ./out/specs/ttl/Research_Data_Repository_Interoperability_Recommendations.ttl ... Done!\n",
      "49. Extracting specification-related data from the Assessment ./out/specs/ttl/Cascading_Style_Sheets_(CSS)_v2.1.ttl ... Done!\n",
      "50. Extracting specification-related data from the Assessment ./out/specs/ttl/Electronic_Signatures_and_Infrastructures_(ESI)-.ttl ... Done!\n",
      "51. Extracting specification-related data from the Assessment ./out/specs/ttl/Hypertext_Markup_Language_v5_(HTML5).ttl ... Done!\n",
      "52. Extracting specification-related data from the Assessment ./out/specs/ttl/OWL_2_Web_Ontology_Language_(OWL2).ttl ... Done!\n",
      "53. Extracting specification-related data from the Assessment ./out/specs/ttl/Tag_image_file_format_for_image_technology_(TIFF-IT).ttl ... Done!\n",
      "54. Extracting specification-related data from the Assessment ./out/specs/ttl/CMS_Advanced_Electronic_Signatures_(CAdES)_-_ISO_14533-1-2014.ttl ... Done!\n",
      "55. Extracting specification-related data from the Assessment ./out/specs/ttl/XML_Schema_Definition_Language_(XSD)_1.1._Part_1_and_2..ttl ... Done!\n",
      "56. Extracting specification-related data from the Assessment ./out/specs/ttl/Wheat_Data_Interoperability_Guidelines.ttl ... Done!\n",
      "57. Extracting specification-related data from the Assessment ./out/specs/ttl/Comma-Separated_Values_(CSV).ttl ... Done!\n",
      "58. Extracting specification-related data from the Assessment ./out/specs/ttl/Universal_Description__Discovery_and_Integration_(UDDI).ttl ... Done!\n",
      "59. Extracting specification-related data from the Assessment ./out/specs/ttl/Portable_Network_Graphics_(PNG).ttl ... Done!\n",
      "60. Extracting specification-related data from the Assessment ./out/specs/ttl/XML_Advanced_Electronic_Signatures_(XAdES)_-_ISO_14533-2-2012.ttl ... Done!\n",
      "61. Extracting specification-related data from the Assessment ./out/specs/ttl/Ogg.ttl ... Done!\n",
      "62. Extracting specification-related data from the Assessment ./out/specs/ttl/eXtensible_Access_Control_Markup_Language_(XACML)_v3.0.ttl ... Done!\n",
      "63. Extracting specification-related data from the Assessment ./out/specs/ttl/Joint_Photographic_Experts_Group_(JPEG).ttl ... Done!\n",
      "64. Extracting specification-related data from the Assessment ./out/specs/ttl/Core_Public_Service_Vocabulary_Application_Profile_(CPSV-AP)_v2.2.ttl ... Done!\n",
      "65. Extracting specification-related data from the Assessment ./out/specs/ttl/IETF_Time_Stamp_Protocol_RFC_3161.ttl ... Done!\n",
      "66. Extracting specification-related data from the Assessment ./out/specs/ttl/Data_Catalogue_Vocabulary_2.0_(DCAT_2).ttl ... Done!\n",
      "67. Extracting specification-related data from the Assessment ./out/specs/ttl/Internet_Protocol_version_6_(IPv6).ttl ... Done!\n",
      "68. Extracting specification-related data from the Assessment ./out/specs/ttl/OpenPM2.ttl ... Done!\n",
      "69. Extracting specification-related data from the Assessment ./out/specs/ttl/UTF-8__a_transformation_format_of_ISO_10646.ttl ... Done!\n",
      "70. Extracting specification-related data from the Assessment ./out/specs/ttl/Data_Catalog_Vocabulary_-_Application_Profile_for_European_Data_Portals_(DCAT-AP_2.0).ttl ... Done!\n",
      "71. Extracting specification-related data from the Assessment ./out/specs/ttl/JavaScript_Object_Notation_(JSON).ttl ... Done!\n",
      "72. Extracting specification-related data from the Assessment ./out/specs/ttl/XSLT.ttl ... Done!\n",
      "73. Extracting specification-related data from the Assessment ./out/specs/ttl/Core_Criterion_and_Core_Evidence_Vocabulary_(CCCEV)_v1.0.ttl ... Done!\n",
      "74. Extracting specification-related data from the Assessment ./out/specs/ttl/HTTP_Over_TLS_(HTTPS).ttl ... Done!\n",
      "75. Extracting specification-related data from the Assessment ./out/specs/ttl/ODRL_Vocabulary_&_Expression_2.2.ttl ... Done!\n",
      "Done! All specifications successfully converted to OWL Turtle!\n"
     ]
    }
   ],
   "source": [
    "camss.run({'--ts-in': './out/ass/csv', '--ts-out': './out/specs/ttl'})"
   ]
  },
  {
   "cell_type": "markdown",
   "id": "intellectual-requirement",
   "metadata": {},
   "source": [
    "---"
   ]
  },
  {
   "cell_type": "markdown",
   "id": "fifteen-intersection",
   "metadata": {},
   "source": [
    "## V. List of CAMSS Assessments (basic metadata)\n",
    "\n",
    "The flattened CSV files are used to extract the basic metadata of each Assessment and build a list. This list is saved as a CSV file.\n",
    "\n",
    "<u>usage</u>:\n",
    "\n",
    "1. Use the parameter '_--la-in_' to indicate the directory containing the flattened CSV CAMSS Assessments resulting from the extraction (performed in the previous step);\n",
    "2. Use the parameter '_--la-out_' to indicate the file path name where to save the list."
   ]
  },
  {
   "cell_type": "code",
   "execution_count": 6,
   "id": "constant-anaheim",
   "metadata": {},
   "outputs": [
    {
     "name": "stdout",
     "output_type": "stream",
     "text": [
      "1. Processing file ./out/ass/csv/MSP-3.0.0-CAMSS Assessment RKPI MSP Scenariov1.0.0.csv ...Done!\n",
      "2. Processing file ./out/ass/csv/MSP-3.0.0-CAMSS Assessment RDA Data Collection API MSP_v1.0.0.csv ...Done!\n",
      "3. Processing file ./out/ass/csv/EIF-3.1.0-CAMSS_Assessment_FTPS_EIF Scenario_v1.0.0.csv ...Done!\n",
      "4. Processing file ./out/ass/csv/EIF-3.1.0-CAMSS_Assessment_XHTML_EIF Scenario_v1.0.0.csv ...Done!\n",
      "5. Processing file ./out/ass/csv/EIF-3.0.0-CAMSS Assessment_DNS_EIF Scenario_v1.0.0.csv ...Done!\n",
      "6. Processing file ./out/ass/csv/EIF-3.0.0-CAMSS_Assessment_XML 1.1_EIF Scenario_v1.0.0.csv ...Done!\n",
      "7. Processing file ./out/ass/csv/EIF-3.0.0-CAMSS_Assessment_WSS_v1.0.csv ...Done!\n",
      "8. Processing file ./out/ass/csv/EIF-3.1.0-CAMSS_Assessment_LegalRuleML_EIF Scenario_v1.0.csv ...Done!\n",
      "9. Processing file ./out/ass/csv/EIF-3.1.0-CAMSS_Assessment_EuroVoc_EIF Scenario_v1.0.0.csv ...Done!\n",
      "10. Processing file ./out/ass/csv/EIF-3.0.0-CAMSS Assessment_IPSec_EIF Scenario_v1.0.csv ...Done!\n",
      "11. Processing file ./out/ass/csv/EIF-3.1.0-CAMSS_Assessment_ODF 1.2_EIF Scenario_v1.0.0.csv ...Done!\n",
      "12. Processing file ./out/ass/csv/EIF-3.1.0-CAMSS Assessment - Standard for Public Code v1.csv ...Done!\n",
      "13. Processing file ./out/ass/csv/EIF-3.1.0-CAMSS_Assessment_CLV_EIF Scenario_v1.0.0.csv ...Done!\n",
      "14. Processing file ./out/ass/csv/EIF-3.1.0-CAMSS_Assessment_PDF_A_EIF Scenario_v1.0.0.csv ...Done!\n",
      "15. Processing file ./out/ass/csv/EIF-3.1.0-CAMSS_Assessment_SMTP_EIF Scenario_v1.0.0.csv ...Done!\n",
      "16. Processing file ./out/ass/csv/EIF-3.1.0-CAMSS_Assessment_Better_Regulation_Toolbox_EIF Scenario_Release Notes_v1.0.0.csv ...Done!\n",
      "17. Processing file ./out/ass/csv/EIF-3.0.0-CAMSS Assessment_WSDL_EIF Scenario_v1.0.csv ...Done!\n",
      "18. Processing file ./out/ass/csv/EIF-3.0.0-CAMSS_Assessment_HTTP 1.1_EIF Scenario_v1.0.0.csv ...Done!\n",
      "19. Processing file ./out/ass/csv/EIF-3.1.0-CAMSS_Assessment_HTML4_EIF Scenario_v1.0.0.csv ...Done!\n",
      "20. Processing file ./out/ass/csv/EIF-3.0.0-CAMSS_Assessment_SOAP 1.2_EIF Scenario_v1.0.csv ...Done!\n",
      "21. Processing file ./out/ass/csv/EIF-3.1.0-CAMSS_Assessment_LegalDocML_EIF Scenario_v1.0.csv ...Done!\n",
      "22. Processing file ./out/ass/csv/EIF-3.0.0-CAMSS_Assessment_XAdES_EIF Scenario_v1.0.0.csv ...Done!\n",
      "23. Processing file ./out/ass/csv/EIF-3.1.0-CAMSS_Assessment_SVG_EIF Scenario_v1.0.0.csv ...Done!\n",
      "24. Processing file ./out/ass/csv/MSP-3.0.0-CAMSS WDS Publishing Data Services v1.0.0(4).csv ...Done!\n",
      "25. Processing file ./out/ass/csv/EIF-3.0.0-CAMSS_Assessment_SHACL_EIF Scenario_v1.0.0.csv ...Done!\n",
      "26. Processing file ./out/ass/csv/EIF-3.1.0-CAMSS_Assessment_RegOrg_EIF Scenario_v1.0.0.csv ...Done!\n",
      "27. Processing file ./out/ass/csv/EIF-3.1.0-CAMSS_Assessment_CPOV_EIF Scenario_v1.0.0.csv ...Done!\n",
      "28. Processing file ./out/ass/csv/EIF-3.0.0-CAMSS Assessment_FTP_EIF Scenario_v1.0.0.csv ...Done!\n",
      "29. Processing file ./out/ass/csv/EIF-3.0.0-CAMSS Assessment_RDF_EIF Scenario_v1.0.csv ...Done!\n",
      "30. Processing file ./out/ass/csv/EIF-3.1.0-CAMSS_Assessment_Xforms 2.0_EIF Scenario_v1.0.0.csv ...Done!\n",
      "31. Processing file ./out/ass/csv/EIF-3.1.0-CAMSS_Assessment_ADMS_EIF Scenario_v1.0.0.csv ...Done!\n",
      "32. Processing file ./out/ass/csv/EIF-3.0.0-CAMSS Assessment_EIF Scenario_PAdES_v.1.0.0.csv ...Done!\n",
      "33. Processing file ./out/ass/csv/EIF-3.1.0-CAMSS_Assessment_MIME_EIF Scenario_v1.0.0.csv ...Done!\n",
      "34. Processing file ./out/ass/csv/EIF-3.1.0-CAMSS_Assessment_SMP 2.0_EIF Scenario_v1.0.0.csv ...Done!\n",
      "35. Processing file ./out/ass/csv/EIF-3.1.0-CAMSS_Assessment_PAdES_EIF Scenario_v1.0.0.csv ...Done!\n",
      "36. Processing file ./out/ass/csv/EIF-3.1.0-CAMSS_Assessment_BP_WebData_EIF Scenario_v1.0.0.csv ...Done!\n",
      "37. Processing file ./out/ass/csv/EIF-3.0.0-CAMSS Assessment_TLS 1.2_EIF Scenario_v1.0.csv ...Done!\n",
      "38. Processing file ./out/ass/csv/EIF-3.1.0-CAMSS_Assessment_SAMM_EIF Scenario_v1.0.csv ...Done!\n",
      "39. Processing file ./out/ass/csv/MSP-3.0.0-CAMSS Assessment TLS 1.3 MSP Scenariov1.0.0.csv ...Done!\n",
      "40. Processing file ./out/ass/csv/EIF-3.1.0-CAMSS_Assessment_LDAP_EIF Scenario_v1.0.0.csv ...Done!\n",
      "41. Processing file ./out/ass/csv/EIF-3.0.0-CAMSS Assessment_EIF Scenario_CAdES Baseline Profile_v.1.0.0.csv ...Done!\n",
      "42. Processing file ./out/ass/csv/EIF-3.0.0-CAMSS Assessment_eDelivery SMP 1.10_v1.0.0.csv ...Done!\n",
      "43. Processing file ./out/ass/csv/EIF-3.0.0-CAMSS_Assessment_SAML 2.0_EIF Scenario_v1.0.csv ...Done!\n",
      "44. Processing file ./out/ass/csv/EIF-3.1.0-CAMSS_Assessment_ELI_EIF Scenario_v1.0.0.csv ...Done!\n",
      "45. Processing file ./out/ass/csv/EIF-3.0.0-CAMSS Assessment_IPv4_EIF Scenario_v1.0.csv ...Done!\n",
      "46. Processing file ./out/ass/csv/EIF-3.1.0-CAMSS_Assessment_WS-BPEL_EIF Scenario_v1.0.0.csv ...Done!\n",
      "47. Processing file ./out/ass/csv/EIF-3.0.0-CAMSS_Assessment_PDF 1.7_EIF Scenario_v1.0.csv ...Done!\n",
      "48. Processing file ./out/ass/csv/MSP-3.0.0-CAMSS Assessment RDA Reasearch Data Repository IoP Recommendations MSPv1.0.0.csv ...Done!\n",
      "49. Processing file ./out/ass/csv/EIF-3.1.0-CAMSS_Assessment_CSS 2.1_EIF Scenario_v1.0.0.csv ...Done!\n",
      "50. Processing file ./out/ass/csv/EIF-3.0.0-CAMSS Assessment_ASiC Baseline Profile_EIF Scenario_v.1.0.0.csv ...Done!\n",
      "51. Processing file ./out/ass/csv/EIF-3.0.0-CAMSS_Assessment_HTML5 0.1_EIF Scenario_v1.0.csv ...Done!\n",
      "52. Processing file ./out/ass/csv/EIF-3.1.0-CAMSS_Assessment_OWL2_EIF Scenario_v1.0.0.csv ...Done!\n",
      "53. Processing file ./out/ass/csv/EIF-3.1.0-CAMSS_Assessment_TIFF_IT_EIF Scenario_v1.0.0.csv ...Done!\n",
      "54. Processing file ./out/ass/csv/EIF-3.1.0-CAMSS_Assessment_CAdES_EIF Scenario_v1.0.0.csv ...Done!\n",
      "55. Processing file ./out/ass/csv/EIF-3.0.0-CAMSS Assessment of XSD 1.1v.1.0.0.csv ...Done!\n",
      "56. Processing file ./out/ass/csv/MSP-3.0.0-CAMSS Assessment_Wheat Data Interoperability Guidelines MSP Scenario_v1.0.0.csv ...Done!\n",
      "57. Processing file ./out/ass/csv/EIF-3.0.0-CAMSS_Assessment_CSV_EIF Scenario_v1.0.csv ...Done!\n",
      "58. Processing file ./out/ass/csv/EIF-3.0.0-CAMSS Assessment_UDDI_EIF Scenario_v1.0.csv ...Done!\n",
      "59. Processing file ./out/ass/csv/EIF-3.1.0-CAMSS_Assessment_PNG_EIF Scenario_v1.0.0.csv ...Done!\n",
      "60. Processing file ./out/ass/csv/EIF-3.1.0-CAMSS_Assessment_XAdES_EIF Scenario_v1.0.0.csv ...Done!\n",
      "61. Processing file ./out/ass/csv/EIF-3.1.0-CAMSS_Assessment_Ogg_EIF Scenario_v1.0.0.csv ...Done!\n",
      "62. Processing file ./out/ass/csv/EIF-3.1.0-CAMSS_Assessment_XACML_EIF Scenario_v1.0.0.csv ...Done!\n",
      "63. Processing file ./out/ass/csv/EIF-3.1.0-CAMSS_Assessment_JPEG_EIF Scenario_v1.0.0.csv ...Done!\n",
      "64. Processing file ./out/ass/csv/EIF-3.1.0-CAMSS_Assessment_CPSV-AP_EIF Scenario_v1.0.0.csv ...Done!\n",
      "65. Processing file ./out/ass/csv/EIF-3.1.0-CAMSS_Assessment_TSP_EIF Scenario_v1.0.csv ...Done!\n",
      "66. Processing file ./out/ass/csv/EIF-3.0.0-CAMSS Assessment_DCAT_EIF Scenario_v1.0.0.csv ...Done!\n",
      "67. Processing file ./out/ass/csv/EIF-3.0.0-CAMSS Assessment_IPv6_EIF Scenario_v1.0.0.csv ...Done!\n",
      "68. Processing file ./out/ass/csv/EIF-3.1.0-CAMSS_Assessment_OpenPM2_EIF Scenario_v1.0.0.csv ...Done!\n",
      "69. Processing file ./out/ass/csv/EIF-3.0.0-CAMSS Assessment_UTF-8_EIF Scenario_v1.0.csv ...Done!\n",
      "70. Processing file ./out/ass/csv/EIF-3.0.0-CAMSS Assessment_DCAT-AP_EIF Scenario_v1.0.0.csv ...Done!\n",
      "71. Processing file ./out/ass/csv/EIF-3.0.0-CAMSS_Assessment_JSON_EIF Scenario_v1.0.csv ...Done!\n",
      "72. Processing file ./out/ass/csv/EIF-3.0.0-CAMSS_Assessment_XSLT_EIF Scenario_v1.0.csv ...Done!\n",
      "73. Processing file ./out/ass/csv/EIF-3.1.0-CAMSS_Assessment_CCCEV_EIF Scenario_v1.0.0.csv ...Done!\n",
      "74. Processing file ./out/ass/csv/EIF-3.0.0-CAMSS_Assessment_HTTPS_EIF Scenario_v1.0.0.csv ...Done!\n",
      "75. Processing file ./out/ass/csv/EIF-3.1.0-CAMSS Assessment ODLR 2.2_EIF Scenario_v1.0.0.csv ...Done!\n",
      "List of assessments successfully created (see file ./out/ass-list.csv!\n"
     ]
    }
   ],
   "source": [
    "camss.run({'--la-in': './out/ass/csv', '--la-out': './out/ass-list.csv'})"
   ]
  },
  {
   "cell_type": "markdown",
   "id": "casual-assurance",
   "metadata": {},
   "source": [
    "---"
   ]
  },
  {
   "cell_type": "markdown",
   "id": "serial-coordinate",
   "metadata": {},
   "source": [
    "## VI. Merging all Assessment-TTL files into one single OWL-TTL file \n",
    "\n",
    "The individual Assessment TTL files, produced after extraction, are merged in one single TTL file.\n",
    "\n",
    "<u>usage</u>:\n",
    "\n",
    "1. Use the parameter '_--ga-in_' to indicate the directory containing the TTL CAMSS Assessments;\n",
    "2. Use the parameter '_--ga-out_' to indicate the file path name where to save the result of the merging."
   ]
  },
  {
   "cell_type": "code",
   "execution_count": 7,
   "id": "african-speed",
   "metadata": {},
   "outputs": [
    {
     "name": "stdout",
     "output_type": "stream",
     "text": [
      "1. Merging ./out/ass/ttl/EIF-3.1.0-EIF-3.1.0-CAMSS_Assessment_HTML4_EIF Scenario_v1.0.0.ttl into one single big Turtle TTL file...done!\n",
      "2. Merging ./out/ass/ttl/EIF-3.1.0-EIF-3.1.0-CAMSS Assessment ODLR 2.2_EIF Scenario_v1.0.0.ttl into one single big Turtle TTL file...done!\n",
      "3. Merging ./out/ass/ttl/EIF-3.1.0-EIF-3.1.0-CAMSS_Assessment_SAMM_EIF Scenario_v1.0.ttl into one single big Turtle TTL file...done!\n",
      "4. Merging ./out/ass/ttl/EIF-3.0.0-EIF-3.0.0-CAMSS Assessment_FTP_EIF Scenario_v1.0.0.ttl into one single big Turtle TTL file...done!\n",
      "5. Merging ./out/ass/ttl/EIF-3.1.0-EIF-3.1.0-CAMSS_Assessment_XAdES_EIF Scenario_v1.0.0.ttl into one single big Turtle TTL file...done!\n",
      "6. Merging ./out/ass/ttl/EIF-3.0.0-EIF-3.0.0-CAMSS_Assessment_HTTPS_EIF Scenario_v1.0.0.ttl into one single big Turtle TTL file...done!\n",
      "7. Merging ./out/ass/ttl/MSP-3.0.0-MSP-3.0.0-CAMSS Assessment RDA Data Collection API MSP_v1.0.0.ttl into one single big Turtle TTL file...done!\n",
      "8. Merging ./out/ass/ttl/EIF-3.1.0-EIF-3.1.0-CAMSS_Assessment_CCCEV_EIF Scenario_v1.0.0.ttl into one single big Turtle TTL file...done!\n",
      "9. Merging ./out/ass/ttl/EIF-3.1.0-EIF-3.1.0-CAMSS_Assessment_SVG_EIF Scenario_v1.0.0.ttl into one single big Turtle TTL file...done!\n",
      "10. Merging ./out/ass/ttl/EIF-3.1.0-EIF-3.1.0-CAMSS_Assessment_ODF 1.2_EIF Scenario_v1.0.0.ttl into one single big Turtle TTL file...done!\n",
      "11. Merging ./out/ass/ttl/EIF-3.1.0-EIF-3.1.0-CAMSS_Assessment_XACML_EIF Scenario_v1.0.0.ttl into one single big Turtle TTL file...done!\n",
      "12. Merging ./out/ass/ttl/EIF-3.1.0-EIF-3.1.0-CAMSS_Assessment_PAdES_EIF Scenario_v1.0.0.ttl into one single big Turtle TTL file...done!\n",
      "13. Merging ./out/ass/ttl/EIF-3.1.0-EIF-3.1.0-CAMSS_Assessment_WS-BPEL_EIF Scenario_v1.0.0.ttl into one single big Turtle TTL file...done!\n",
      "14. Merging ./out/ass/ttl/EIF-3.1.0-EIF-3.1.0-CAMSS Assessment - Standard for Public Code v1.ttl into one single big Turtle TTL file...done!\n",
      "15. Merging ./out/ass/ttl/EIF-3.0.0-EIF-3.0.0-CAMSS Assessment_TLS 1.2_EIF Scenario_v1.0.ttl into one single big Turtle TTL file...done!\n",
      "16. Merging ./out/ass/ttl/EIF-3.1.0-EIF-3.1.0-CAMSS_Assessment_MIME_EIF Scenario_v1.0.0.ttl into one single big Turtle TTL file...done!\n",
      "17. Merging ./out/ass/ttl/EIF-3.1.0-EIF-3.1.0-CAMSS_Assessment_CLV_EIF Scenario_v1.0.0.ttl into one single big Turtle TTL file...done!\n",
      "18. Merging ./out/ass/ttl/EIF-3.0.0-EIF-3.0.0-CAMSS_Assessment_JSON_EIF Scenario_v1.0.ttl into one single big Turtle TTL file...done!\n",
      "19. Merging ./out/ass/ttl/EIF-3.0.0-EIF-3.0.0-CAMSS Assessment_eDelivery SMP 1.10_v1.0.0.ttl into one single big Turtle TTL file...done!\n",
      "20. Merging ./out/ass/ttl/EIF-3.0.0-EIF-3.0.0-CAMSS Assessment_RDF_EIF Scenario_v1.0.ttl into one single big Turtle TTL file...done!\n",
      "21. Merging ./out/ass/ttl/EIF-3.0.0-EIF-3.0.0-CAMSS Assessment_IPv6_EIF Scenario_v1.0.0.ttl into one single big Turtle TTL file...done!\n",
      "22. Merging ./out/ass/ttl/EIF-3.0.0-EIF-3.0.0-CAMSS Assessment_DNS_EIF Scenario_v1.0.0.ttl into one single big Turtle TTL file...done!\n",
      "23. Merging ./out/ass/ttl/EIF-3.1.0-EIF-3.1.0-CAMSS_Assessment_OWL2_EIF Scenario_v1.0.0.ttl into one single big Turtle TTL file...done!\n",
      "24. Merging ./out/ass/ttl/EIF-3.0.0-EIF-3.0.0-CAMSS Assessment_UDDI_EIF Scenario_v1.0.ttl into one single big Turtle TTL file...done!\n",
      "25. Merging ./out/ass/ttl/EIF-3.1.0-EIF-3.1.0-CAMSS_Assessment_FTPS_EIF Scenario_v1.0.0.ttl into one single big Turtle TTL file...done!\n",
      "26. Merging ./out/ass/ttl/EIF-3.0.0-EIF-3.0.0-CAMSS_Assessment_XAdES_EIF Scenario_v1.0.0.ttl into one single big Turtle TTL file...done!\n",
      "27. Merging ./out/ass/ttl/EIF-3.0.0-EIF-3.0.0-CAMSS_Assessment_XSLT_EIF Scenario_v1.0.ttl into one single big Turtle TTL file...done!\n",
      "28. Merging ./out/ass/ttl/MSP-3.0.0-MSP-3.0.0-CAMSS Assessment_Wheat Data Interoperability Guidelines MSP Scenario_v1.0.0.ttl into one single big Turtle TTL file...done!\n",
      "29. Merging ./out/ass/ttl/EIF-3.0.0-EIF-3.0.0-CAMSS Assessment_IPSec_EIF Scenario_v1.0.ttl into one single big Turtle TTL file...done!\n",
      "30. Merging ./out/ass/ttl/EIF-3.0.0-EIF-3.0.0-CAMSS Assessment_IPv4_EIF Scenario_v1.0.ttl into one single big Turtle TTL file...done!\n",
      "31. Merging ./out/ass/ttl/EIF-3.1.0-EIF-3.1.0-CAMSS_Assessment_Better_Regulation_Toolbox_EIF Scenario_Release Notes_v1.0.0.ttl into one single big Turtle TTL file...done!\n",
      "32. Merging ./out/ass/ttl/MSP-3.0.0-MSP-3.0.0-CAMSS WDS Publishing Data Services v1.0.0(4).ttl into one single big Turtle TTL file...done!\n",
      "33. Merging ./out/ass/ttl/EIF-3.1.0-EIF-3.1.0-CAMSS_Assessment_LDAP_EIF Scenario_v1.0.0.ttl into one single big Turtle TTL file...done!\n",
      "34. Merging ./out/ass/ttl/EIF-3.1.0-EIF-3.1.0-CAMSS_Assessment_EuroVoc_EIF Scenario_v1.0.0.ttl into one single big Turtle TTL file...done!\n",
      "35. Merging ./out/ass/ttl/EIF-3.1.0-EIF-3.1.0-CAMSS_Assessment_CSS 2.1_EIF Scenario_v1.0.0.ttl into one single big Turtle TTL file...done!\n",
      "36. Merging ./out/ass/ttl/EIF-3.1.0-EIF-3.1.0-CAMSS_Assessment_Ogg_EIF Scenario_v1.0.0.ttl into one single big Turtle TTL file...done!\n",
      "37. Merging ./out/ass/ttl/EIF-3.0.0-EIF-3.0.0-CAMSS_Assessment_SOAP 1.2_EIF Scenario_v1.0.ttl into one single big Turtle TTL file...done!\n",
      "38. Merging ./out/ass/ttl/EIF-3.0.0-EIF-3.0.0-CAMSS Assessment_WSDL_EIF Scenario_v1.0.ttl into one single big Turtle TTL file...done!\n",
      "39. Merging ./out/ass/ttl/EIF-3.0.0-EIF-3.0.0-CAMSS_Assessment_SHACL_EIF Scenario_v1.0.0.ttl into one single big Turtle TTL file...done!\n",
      "40. Merging ./out/ass/ttl/EIF-3.0.0-EIF-3.0.0-CAMSS Assessment_EIF Scenario_CAdES Baseline Profile_v.1.0.0.ttl into one single big Turtle TTL file...done!\n",
      "41. Merging ./out/ass/ttl/EIF-3.0.0-EIF-3.0.0-CAMSS_Assessment_HTTP 1.1_EIF Scenario_v1.0.0.ttl into one single big Turtle TTL file...done!\n",
      "42. Merging ./out/ass/ttl/EIF-3.1.0-EIF-3.1.0-CAMSS_Assessment_JPEG_EIF Scenario_v1.0.0.ttl into one single big Turtle TTL file...done!\n",
      "43. Merging ./out/ass/ttl/EIF-3.0.0-EIF-3.0.0-CAMSS Assessment_DCAT-AP_EIF Scenario_v1.0.0.ttl into one single big Turtle TTL file...done!\n",
      "44. Merging ./out/ass/ttl/EIF-3.1.0-EIF-3.1.0-CAMSS_Assessment_ADMS_EIF Scenario_v1.0.0.ttl into one single big Turtle TTL file...done!\n",
      "45. Merging ./out/ass/ttl/EIF-3.1.0-EIF-3.1.0-CAMSS_Assessment_TSP_EIF Scenario_v1.0.ttl into one single big Turtle TTL file...done!\n",
      "46. Merging ./out/ass/ttl/EIF-3.1.0-EIF-3.1.0-CAMSS_Assessment_BP_WebData_EIF Scenario_v1.0.0.ttl into one single big Turtle TTL file...done!\n",
      "47. Merging ./out/ass/ttl/EIF-3.1.0-EIF-3.1.0-CAMSS_Assessment_TIFF_IT_EIF Scenario_v1.0.0.ttl into one single big Turtle TTL file...done!\n",
      "48. Merging ./out/ass/ttl/EIF-3.1.0-EIF-3.1.0-CAMSS_Assessment_CAdES_EIF Scenario_v1.0.0.ttl into one single big Turtle TTL file...done!\n",
      "49. Merging ./out/ass/ttl/EIF-3.1.0-EIF-3.1.0-CAMSS_Assessment_Xforms 2.0_EIF Scenario_v1.0.0.ttl into one single big Turtle TTL file...done!\n",
      "50. Merging ./out/ass/ttl/EIF-3.0.0-EIF-3.0.0-CAMSS_Assessment_CSV_EIF Scenario_v1.0.ttl into one single big Turtle TTL file...done!\n",
      "51. Merging ./out/ass/ttl/EIF-3.0.0-EIF-3.0.0-CAMSS Assessment_DCAT_EIF Scenario_v1.0.0.ttl into one single big Turtle TTL file...done!\n",
      "52. Merging ./out/ass/ttl/EIF-3.1.0-EIF-3.1.0-CAMSS_Assessment_PDF_A_EIF Scenario_v1.0.0.ttl into one single big Turtle TTL file...done!\n",
      "53. Merging ./out/ass/ttl/EIF-3.0.0-EIF-3.0.0-CAMSS Assessment_EIF Scenario_PAdES_v.1.0.0.ttl into one single big Turtle TTL file...done!\n",
      "54. Merging ./out/ass/ttl/EIF-3.1.0-EIF-3.1.0-CAMSS_Assessment_LegalRuleML_EIF Scenario_v1.0.ttl into one single big Turtle TTL file...done!\n",
      "55. Merging ./out/ass/ttl/EIF-3.1.0-EIF-3.1.0-CAMSS_Assessment_LegalDocML_EIF Scenario_v1.0.ttl into one single big Turtle TTL file...done!\n",
      "56. Merging ./out/ass/ttl/EIF-3.1.0-EIF-3.1.0-CAMSS_Assessment_PNG_EIF Scenario_v1.0.0.ttl into one single big Turtle TTL file...done!\n",
      "57. Merging ./out/ass/ttl/EIF-3.1.0-EIF-3.1.0-CAMSS_Assessment_RegOrg_EIF Scenario_v1.0.0.ttl into one single big Turtle TTL file...done!\n",
      "58. Merging ./out/ass/ttl/EIF-3.1.0-EIF-3.1.0-CAMSS_Assessment_SMTP_EIF Scenario_v1.0.0.ttl into one single big Turtle TTL file...done!\n",
      "59. Merging ./out/ass/ttl/EIF-3.1.0-EIF-3.1.0-CAMSS_Assessment_OpenPM2_EIF Scenario_v1.0.0.ttl into one single big Turtle TTL file...done!\n",
      "60. Merging ./out/ass/ttl/EIF-3.0.0-EIF-3.0.0-CAMSS_Assessment_HTML5 0.1_EIF Scenario_v1.0.ttl into one single big Turtle TTL file...done!\n",
      "61. Merging ./out/ass/ttl/EIF-3.0.0-EIF-3.0.0-CAMSS_Assessment_PDF 1.7_EIF Scenario_v1.0.ttl into one single big Turtle TTL file...done!\n",
      "62. Merging ./out/ass/ttl/EIF-3.1.0-EIF-3.1.0-CAMSS_Assessment_CPSV-AP_EIF Scenario_v1.0.0.ttl into one single big Turtle TTL file...done!\n",
      "63. Merging ./out/ass/ttl/EIF-3.0.0-EIF-3.0.0-CAMSS Assessment of XSD 1.1v.1.0.0.ttl into one single big Turtle TTL file...done!\n",
      "64. Merging ./out/ass/ttl/EIF-3.0.0-EIF-3.0.0-CAMSS Assessment_ASiC Baseline Profile_EIF Scenario_v.1.0.0.ttl into one single big Turtle TTL file...done!\n",
      "65. Merging ./out/ass/ttl/EIF-3.0.0-EIF-3.0.0-CAMSS_Assessment_XML 1.1_EIF Scenario_v1.0.0.ttl into one single big Turtle TTL file...done!\n",
      "66. Merging ./out/ass/ttl/EIF-3.0.0-EIF-3.0.0-CAMSS_Assessment_WSS_v1.0.ttl into one single big Turtle TTL file...done!\n",
      "67. Merging ./out/ass/ttl/MSP-3.0.0-MSP-3.0.0-CAMSS Assessment TLS 1.3 MSP Scenariov1.0.0.ttl into one single big Turtle TTL file...done!\n",
      "68. Merging ./out/ass/ttl/EIF-3.1.0-EIF-3.1.0-CAMSS_Assessment_XHTML_EIF Scenario_v1.0.0.ttl into one single big Turtle TTL file...done!\n",
      "69. Merging ./out/ass/ttl/EIF-3.1.0-EIF-3.1.0-CAMSS_Assessment_ELI_EIF Scenario_v1.0.0.ttl into one single big Turtle TTL file...done!\n",
      "70. Merging ./out/ass/ttl/MSP-3.0.0-MSP-3.0.0-CAMSS Assessment RDA Reasearch Data Repository IoP Recommendations MSPv1.0.0.ttl into one single big Turtle TTL file...done!\n",
      "71. Merging ./out/ass/ttl/EIF-3.0.0-EIF-3.0.0-CAMSS_Assessment_SAML 2.0_EIF Scenario_v1.0.ttl into one single big Turtle TTL file...done!\n",
      "72. Merging ./out/ass/ttl/EIF-3.1.0-EIF-3.1.0-CAMSS_Assessment_CPOV_EIF Scenario_v1.0.0.ttl into one single big Turtle TTL file...done!\n",
      "73. Merging ./out/ass/ttl/EIF-3.1.0-EIF-3.1.0-CAMSS_Assessment_SMP 2.0_EIF Scenario_v1.0.0.ttl into one single big Turtle TTL file...done!\n",
      "74. Merging ./out/ass/ttl/EIF-3.0.0-EIF-3.0.0-CAMSS Assessment_UTF-8_EIF Scenario_v1.0.ttl into one single big Turtle TTL file...done!\n",
      "75. Merging ./out/ass/ttl/MSP-3.0.0-MSP-3.0.0-CAMSS Assessment RKPI MSP Scenariov1.0.0.ttl into one single big Turtle TTL file...done!\n",
      "Saving the big Turtle File as ./out/ass/ass-graph.ttl...Done!\n"
     ]
    }
   ],
   "source": [
    "camss.run({'--ga-in': './out/ass/ttl', '--ga-out': './out/ass/ass-graph.ttl'})"
   ]
  },
  {
   "cell_type": "markdown",
   "id": "nervous-sacramento",
   "metadata": {},
   "source": [
    "---"
   ]
  },
  {
   "cell_type": "markdown",
   "id": "rolled-pocket",
   "metadata": {},
   "source": [
    "## VII. Merging all scenario and criteria-TTL files into one single OWL-TTL file \n",
    "\n",
    "The individual scenarios and criteria TTL files, produced after extraction, are merged in one single TTL file.\n",
    "\n",
    "<u>usage</u>:\n",
    "\n",
    "1. Use the parameter '_--ga-in_' to indicate the directory containing the TTL CAMSS Assessments;\n",
    "2. Use the parameter '_--ga-out_' to indicate the file path name where to save the result of the merging."
   ]
  },
  {
   "cell_type": "code",
   "execution_count": 8,
   "id": "adopted-overhead",
   "metadata": {},
   "outputs": [
    {
     "name": "stdout",
     "output_type": "stream",
     "text": [
      "1. Merging ./out/crit/ttl/MSP-3.0.0-criteria.ttl into one single big Turtle TTL file...done!\n",
      "2. Merging ./out/crit/ttl/EIF-3.1.0-criteria.ttl into one single big Turtle TTL file...done!\n",
      "3. Merging ./out/crit/ttl/EIF-3.0.0-criteria.ttl into one single big Turtle TTL file...done!\n",
      "Saving the big Turtle File as ./out/crit/crit-graph.ttl...Done!\n"
     ]
    }
   ],
   "source": [
    "camss.run({'--ga-in': './out/crit/ttl', '--ga-out': './out/crit/crit-graph.ttl'})"
   ]
  },
  {
   "cell_type": "markdown",
   "id": "signal-truck",
   "metadata": {},
   "source": [
    "---"
   ]
  },
  {
   "cell_type": "markdown",
   "id": "moving-satin",
   "metadata": {},
   "source": [
    "## VIII. Merging all specification-TTL files into one single OWL-TTL file \n",
    "\n",
    "The individual specification TTL files, produced after extraction, are merged in one single TTL file.\n",
    "\n",
    "<u>usage</u>:\n",
    "\n",
    "1. Use the parameter '_--ga-in_' to indicate the directory containing the TTL CAMSS Assessments;\n",
    "2. Use the parameter '_--ga-out_' to indicate the file path name where to save the result of the merging."
   ]
  },
  {
   "cell_type": "code",
   "execution_count": 9,
   "id": "stone-causing",
   "metadata": {},
   "outputs": [
    {
     "name": "stdout",
     "output_type": "stream",
     "text": [
      "1. Merging ./out/specs/ttl/Portable_Document_Format_v_1.7_(PDF_1.7).ttl into one single big Turtle TTL file...done!\n",
      "2. Merging ./out/specs/ttl/Web_Services_Business_Process_Execution_Language_(WS-BPEL)_v2.0.ttl into one single big Turtle TTL file...done!\n",
      "3. Merging ./out/specs/ttl/XSLT.ttl into one single big Turtle TTL file...done!\n",
      "4. Merging ./out/specs/ttl/File_Transfer_Protocol_over_Transport_Layer_Security_(FTPS_or_FTP_over_TLS).ttl into one single big Turtle TTL file...done!\n",
      "5. Merging ./out/specs/ttl/European_Legislation_Identifier_(ELI).ttl into one single big Turtle TTL file...done!\n",
      "6. Merging ./out/specs/ttl/Resource_Public_Key_Infrastructure.ttl into one single big Turtle TTL file...done!\n",
      "7. Merging ./out/specs/ttl/Electronic_Signatures_and_Infrastructures_(ESI)-.ttl into one single big Turtle TTL file...done!\n",
      "8. Merging ./out/specs/ttl/Portable_Document_Format-A_(PDF-A).ttl into one single big Turtle TTL file...done!\n",
      "9. Merging ./out/specs/ttl/WS-Security_(Web_Services_Security).ttl into one single big Turtle TTL file...done!\n",
      "10. Merging ./out/specs/ttl/Multipurpose_Internet_Mail_Extensions_(MIME).ttl into one single big Turtle TTL file...done!\n",
      "11. Merging ./out/specs/ttl/XML_Advanced_Electronic_Signatures_(XAdES)_-_ISO_14533-2-2012.ttl into one single big Turtle TTL file...done!\n",
      "12. Merging ./out/specs/ttl/LegalRuleML.ttl into one single big Turtle TTL file...done!\n",
      "13. Merging ./out/specs/ttl/Internet_Protocol_version_4_(IPv4).ttl into one single big Turtle TTL file...done!\n",
      "14. Merging ./out/specs/ttl/Data_on_the_Web_Best_Practices_W3C.ttl into one single big Turtle TTL file...done!\n",
      "15. Merging ./out/specs/ttl/Registered_Organization_Vocabulary_(RegOrg).ttl into one single big Turtle TTL file...done!\n",
      "16. Merging ./out/specs/ttl/OWASP_SAMM.ttl into one single big Turtle TTL file...done!\n",
      "17. Merging ./out/specs/ttl/Core_Public_Service_Vocabulary_Application_Profile_(CPSV-AP)_v2.2.ttl into one single big Turtle TTL file...done!\n",
      "18. Merging ./out/specs/ttl/Scalable_Vector_Graphics_(SVG)_v1.1_(Second_Edition).ttl into one single big Turtle TTL file...done!\n",
      "19. Merging ./out/specs/ttl/Data_Collections_API.ttl into one single big Turtle TTL file...done!\n",
      "20. Merging ./out/specs/ttl/Hypertext_Transfer_Protocol_HTTP_1.1.ttl into one single big Turtle TTL file...done!\n",
      "21. Merging ./out/specs/ttl/Hypertext_Markup_Language_v5_(HTML5).ttl into one single big Turtle TTL file...done!\n",
      "22. Merging ./out/specs/ttl/IETF_Time_Stamp_Protocol_RFC_3161.ttl into one single big Turtle TTL file...done!\n",
      "23. Merging ./out/specs/ttl/Transport_Layer_Security_1.3_(TLS_1.3).ttl into one single big Turtle TTL file...done!\n",
      "24. Merging ./out/specs/ttl/Portable_Network_Graphics_(PNG).ttl into one single big Turtle TTL file...done!\n",
      "25. Merging ./out/specs/ttl/Research_Data_Repository_Interoperability_Recommendations.ttl into one single big Turtle TTL file...done!\n",
      "26. Merging ./out/specs/ttl/Internet_Protocol_version_6_(IPv6).ttl into one single big Turtle TTL file...done!\n",
      "27. Merging ./out/specs/ttl/SOAP.ttl into one single big Turtle TTL file...done!\n",
      "28. Merging ./out/specs/ttl/Extensible_HyperText_Markup_Language_(XHTML)_v1.0.ttl into one single big Turtle TTL file...done!\n",
      "29. Merging ./out/specs/ttl/Service_Metadata_Publishing_(SMP)_Version_2.0.ttl into one single big Turtle TTL file...done!\n",
      "30. Merging ./out/specs/ttl/Electronic_Signatures_and_Infrastructures_(ESI)-\n",
      "PAdES_Baseline_Profile.ttl into one single big Turtle TTL file...done!\n",
      "31. Merging ./out/specs/ttl/Simple_Mail_Transfer_Protocol_(SMTP).ttl into one single big Turtle TTL file...done!\n",
      "32. Merging ./out/specs/ttl/Core_Public_Organisation_Vocabulary_(CPOV).ttl into one single big Turtle TTL file...done!\n",
      "33. Merging ./out/specs/ttl/Cascading_Style_Sheets_(CSS)_v2.1.ttl into one single big Turtle TTL file...done!\n",
      "34. Merging ./out/specs/ttl/WDS_Publishing_Data_Services.ttl into one single big Turtle TTL file...done!\n",
      "35. Merging ./out/specs/ttl/XML__Extensible_Markup_Language_1.1.ttl into one single big Turtle TTL file...done!\n",
      "36. Merging ./out/specs/ttl/eDelivery_SMP_1.10.ttl into one single big Turtle TTL file...done!\n",
      "37. Merging ./out/specs/ttl/Core_Location_Vocabulary_(CLV)_v1.0.ttl into one single big Turtle TTL file...done!\n",
      "38. Merging ./out/specs/ttl/XAdES_Baseline_Profile.ttl into one single big Turtle TTL file...done!\n",
      "39. Merging ./out/specs/ttl/OWL_2_Web_Ontology_Language_(OWL2).ttl into one single big Turtle TTL file...done!\n",
      "40. Merging ./out/specs/ttl/Electronic_Signatures_and_Infrastructures_(ESI)-\n",
      "CAdES_Baseline_Profile.ttl into one single big Turtle TTL file...done!\n",
      "41. Merging ./out/specs/ttl/SAML_2.0_(Security_Assertion_Markup_Language_(SAML)_V2.0).ttl into one single big Turtle TTL file...done!\n",
      "42. Merging ./out/specs/ttl/Data_Catalog_Vocabulary_-_Application_Profile_for_European_Data_Portals_(DCAT-AP_2.0).ttl into one single big Turtle TTL file...done!\n",
      "43. Merging ./out/specs/ttl/OpenPM2.ttl into one single big Turtle TTL file...done!\n",
      "44. Merging ./out/specs/ttl/Lightweight_Directory_Access_Protocol_(LDAP).ttl into one single big Turtle TTL file...done!\n",
      "45. Merging ./out/specs/ttl/Eurovoc.ttl into one single big Turtle TTL file...done!\n",
      "46. Merging ./out/specs/ttl/HTTP_Over_TLS_(HTTPS).ttl into one single big Turtle TTL file...done!\n",
      "47. Merging ./out/specs/ttl/Transport_Layer_Security_(TLS).ttl into one single big Turtle TTL file...done!\n",
      "48. Merging ./out/specs/ttl/Web_Services_Description_Language_(WSDL).ttl into one single big Turtle TTL file...done!\n",
      "49. Merging ./out/specs/ttl/Ogg.ttl into one single big Turtle TTL file...done!\n",
      "50. Merging ./out/specs/ttl/Wheat_Data_Interoperability_Guidelines.ttl into one single big Turtle TTL file...done!\n",
      "51. Merging ./out/specs/ttl/File_Transfer_Protocol_(FTP).ttl into one single big Turtle TTL file...done!\n",
      "52. Merging ./out/specs/ttl/CMS_Advanced_Electronic_Signatures_(CAdES)_-_ISO_14533-1-2014.ttl into one single big Turtle TTL file...done!\n",
      "53. Merging ./out/specs/ttl/eXtensible_Access_Control_Markup_Language_(XACML)_v3.0.ttl into one single big Turtle TTL file...done!\n",
      "54. Merging ./out/specs/ttl/LegalDocML.ttl into one single big Turtle TTL file...done!\n",
      "55. Merging ./out/specs/ttl/Asset_Description_Metadata_Schema_(ADMS).ttl into one single big Turtle TTL file...done!\n",
      "56. Merging ./out/specs/ttl/Xforms_2.0.ttl into one single big Turtle TTL file...done!\n",
      "57. Merging ./out/specs/ttl/Domain_Name_System_(DNS).ttl into one single big Turtle TTL file...done!\n",
      "58. Merging ./out/specs/ttl/PDF_Advanced_Electronic_Signatures_(PAdES)_-_ISO_14533-3-2017.ttl into one single big Turtle TTL file...done!\n",
      "59. Merging ./out/specs/ttl/Resource_Description_Framework_1.1_(RDF_1.1).ttl into one single big Turtle TTL file...done!\n",
      "60. Merging ./out/specs/ttl/ODRL_Vocabulary_&_Expression_2.2.ttl into one single big Turtle TTL file...done!\n",
      "61. Merging ./out/specs/ttl/Better_Regulation_Toolbox.ttl into one single big Turtle TTL file...done!\n",
      "62. Merging ./out/specs/ttl/Core_Criterion_and_Core_Evidence_Vocabulary_(CCCEV)_v1.0.ttl into one single big Turtle TTL file...done!\n",
      "63. Merging ./out/specs/ttl/Data_Catalogue_Vocabulary_2.0_(DCAT_2).ttl into one single big Turtle TTL file...done!\n",
      "64. Merging ./out/specs/ttl/Internet_Protocol_Security_(IPSec).ttl into one single big Turtle TTL file...done!\n",
      "65. Merging ./out/specs/ttl/Open_Document_Format_for_Office_Applications_(ODF)_v1.2.ttl into one single big Turtle TTL file...done!\n",
      "66. Merging ./out/specs/ttl/JavaScript_Object_Notation_(JSON).ttl into one single big Turtle TTL file...done!\n",
      "67. Merging ./out/specs/ttl/Universal_Description__Discovery_and_Integration_(UDDI).ttl into one single big Turtle TTL file...done!\n",
      "68. Merging ./out/specs/ttl/SHACL__Shapes_constraint_language.ttl into one single big Turtle TTL file...done!\n",
      "69. Merging ./out/specs/ttl/Tag_image_file_format_for_image_technology_(TIFF-IT).ttl into one single big Turtle TTL file...done!\n",
      "70. Merging ./out/specs/ttl/Standard_for_Public_Code.ttl into one single big Turtle TTL file...done!\n",
      "71. Merging ./out/specs/ttl/Comma-Separated_Values_(CSV).ttl into one single big Turtle TTL file...done!\n",
      "72. Merging ./out/specs/ttl/Joint_Photographic_Experts_Group_(JPEG).ttl into one single big Turtle TTL file...done!\n",
      "73. Merging ./out/specs/ttl/UTF-8__a_transformation_format_of_ISO_10646.ttl into one single big Turtle TTL file...done!\n",
      "74. Merging ./out/specs/ttl/Hypertext_Markup_Language_(HTML)_v4.01.ttl into one single big Turtle TTL file...done!\n",
      "75. Merging ./out/specs/ttl/XML_Schema_Definition_Language_(XSD)_1.1._Part_1_and_2..ttl into one single big Turtle TTL file...done!\n",
      "Saving the big Turtle File as ./out/specs/specs-graph.ttl...Done!\n"
     ]
    }
   ],
   "source": [
    "camss.run({'--ga-in': './out/specs/ttl', '--ga-out': './out/specs/specs-graph.ttl'})"
   ]
  },
  {
   "cell_type": "markdown",
   "id": "treated-divorce",
   "metadata": {},
   "source": [
    "---"
   ]
  },
  {
   "cell_type": "code",
   "execution_count": null,
   "id": "23d6e8c6-8d41-492a-aa2e-a7f54c1ec5d2",
   "metadata": {},
   "outputs": [],
   "source": []
  }
 ],
 "metadata": {
  "kernelspec": {
   "display_name": "Python 3",
   "language": "python",
   "name": "python3"
  },
  "language_info": {
   "codemirror_mode": {
    "name": "ipython",
    "version": 3
   },
   "file_extension": ".py",
   "mimetype": "text/x-python",
   "name": "python",
   "nbconvert_exporter": "python",
   "pygments_lexer": "ipython3",
   "version": "3.8.8"
  }
 },
 "nbformat": 4,
 "nbformat_minor": 5
}
