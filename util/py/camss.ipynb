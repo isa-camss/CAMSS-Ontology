{
 "cells": [
  {
   "cell_type": "code",
   "execution_count": null,
   "id": "impaired-latest",
   "metadata": {},
   "outputs": [],
   "source": [
    "import camss\n",
    "from IPython.core.display import display, HTML"
   ]
  },
  {
   "cell_type": "markdown",
   "id": "violent-necklace",
   "metadata": {},
   "source": [
    "# <center>CAMSS Utilities</center>\n",
    "## <center>Transformation of the CAMSS Assessments, from spread-sheets to RDF-OWL</center>\n",
    "<center><img src=\"./doc/art/CAMSS Logo landscape.png\"/></center>\n",
    "<center>European Commission, ISA2 Programme, DIGIT</center>\n",
    "<center><a href=\"mailto:camss@everis.com\">camss@everis.nttdata.com</a></center>\n",
    "<center><a href=\"https://joinup.ec.europa.eu/collection/eupl/about\">UPL Licence</a><center>\n",
    "<center>Build 20210415T19:35</center>\n",
    "<center>Version 0.1</center>"
   ]
  },
  {
   "cell_type": "markdown",
   "id": "adolescent-insertion",
   "metadata": {},
   "source": [
    "---"
   ]
  },
  {
   "cell_type": "markdown",
   "id": "genetic-birthday",
   "metadata": {},
   "source": [
    "### I. Extraction of the CAMSS Assessments into 'flattened' CSV files, one per Assessment\n",
    "\n",
    "1. Use the parameter '_--xa-in_' to indicate the directory containing the corpus of CAMSS Assessments as spread-sheets (as XLS, XLSM, or ODS);\n",
    "2. Use the parameter '_--xa-out_' to indicate where to accumulate the generated flattened CSV files. If the directory and sub-directories indicated do not exist they will be created automatically."
   ]
  },
  {
   "cell_type": "code",
   "execution_count": null,
   "id": "searching-conditioning",
   "metadata": {},
   "outputs": [],
   "source": [
    "camss.run({'--xa-in': './in/ass', '--xa-out': './out/ass/csv'})"
   ]
  },
  {
   "cell_type": "markdown",
   "id": "massive-newport",
   "metadata": {},
   "source": [
    "---"
   ]
  },
  {
   "cell_type": "markdown",
   "id": "dress-blogger",
   "metadata": {},
   "source": [
    "## II. Population of the CAMSS Knowldege Graph with the CAMSS Assessments \n",
    "\n",
    "The Assessments are converted to RDF-OWL, one TTL file per Assessment. \n",
    "A Graph is created with the prefix and namespace _@prefix camssa: \\<http://data.europa.eu/2sa/assessments/>._\n",
    "\n",
    "<u>usage</u>:\n",
    "\n",
    "1. Use the parameter '_--ta-in_' to indicate the directory containing the flattened CSV CAMSS Assessments resulting from the extraction (performed in the previous step);\n",
    "2. Use the parameter '_--ta-out_' to indicate where to accumulate the generated Turtle (TTL) files. If the directory and sub-directories indicated do not exist they will be created automatically."
   ]
  },
  {
   "cell_type": "code",
   "execution_count": null,
   "id": "fantastic-contemporary",
   "metadata": {},
   "outputs": [],
   "source": [
    "camss.run({'--ta-in': './out/ass/csv', '--ta-out': './out/ass/ttl'})"
   ]
  },
  {
   "cell_type": "markdown",
   "id": "geographic-suspension",
   "metadata": {},
   "source": [
    "---"
   ]
  },
  {
   "cell_type": "markdown",
   "id": "corresponding-creature",
   "metadata": {},
   "source": [
    "## III. Population of the CAMSS Knowldege Graph with the CAMSS Scenarios and Criteria \n",
    "\n",
    "The Assessments, once flattened as CSV files, are used to extract the scenario and criteria existing and \n",
    "populate the CAMSS Knowledge Graph with them. \n",
    "\n",
    "The graph used to keep scenarios and criteria uses the prefix and namespace _@prefix sc: \\<http://data.europa.eu/2sa/scenarios#>._\n",
    "\n",
    "<u>usage</u>:\n",
    "\n",
    "1. Use the parameter '_--tc-in_' to indicate the directory containing the flattened CSV CAMSS Assessments resulting from the extraction (performed in the previous step);\n",
    "2. Use the parameter '_--tc-out_' to indicate where to accumulate the generated Turtle (TTL) files. If the directory and sub-directories indicated do not exist they will be created automatically."
   ]
  },
  {
   "cell_type": "code",
   "execution_count": null,
   "id": "animated-engagement",
   "metadata": {},
   "outputs": [],
   "source": [
    "camss.run({'--tc-in': './out/ass/csv', '--tc-out': './out/crit/ttl'})"
   ]
  },
  {
   "cell_type": "markdown",
   "id": "informed-appearance",
   "metadata": {},
   "source": [
    "---"
   ]
  },
  {
   "cell_type": "markdown",
   "id": "secure-liberty",
   "metadata": {},
   "source": [
    "## IV. Population of the CAMSS Knowledge Graph with the Specifications and Standards identified by the CAMSS Team\n",
    "\n",
    "The Assessments, once flattened as CSV files, are used to extract the standards and specifications existing and \n",
    "populate the CAMSS Knowledge Graph with them. \n",
    "\n",
    "The graph used to keep specifications and standards uses the prefix and namespace _@prefix sc: \\<@prefix rsc: <http://data.europa.eu/2sa/cssv/rsc/>._\n",
    "\n",
    "<u>usage</u>:\n",
    "\n",
    "1. Use the parameter '_--tc-in_' to indicate the directory containing the flattened CSV CAMSS Assessments resulting from the extraction (performed in the previous step);\n",
    "2. Use the parameter '_--tc-out_' to indicate where to accumulate the generated Turtle (TTL) files. If the directory and sub-directories indicated do not exist they will be created automatically."
   ]
  },
  {
   "cell_type": "code",
   "execution_count": null,
   "id": "personalized-limitation",
   "metadata": {},
   "outputs": [],
   "source": [
    "camss.run({'--ts-in': './out/ass/csv', '--ts-out': './out/specs/ttl'})"
   ]
  },
  {
   "cell_type": "markdown",
   "id": "intellectual-requirement",
   "metadata": {},
   "source": [
    "---"
   ]
  },
  {
   "cell_type": "markdown",
   "id": "fifteen-intersection",
   "metadata": {},
   "source": [
    "## V. List of CAMSS Assessments (basic metadata)\n",
    "\n",
    "The flattened CSV files are used to extract the basic metadata of each Assessment and build a list. This list is saved as a CSV file.\n",
    "\n",
    "<u>usage</u>:\n",
    "\n",
    "1. Use the parameter '_--la-in_' to indicate the directory containing the flattened CSV CAMSS Assessments resulting from the extraction (performed in the previous step);\n",
    "2. Use the parameter '_--la-out_' to indicate the file path name where to save the list."
   ]
  },
  {
   "cell_type": "code",
   "execution_count": null,
   "id": "constant-anaheim",
   "metadata": {},
   "outputs": [],
   "source": [
    "camss.run({'--la-in': './out/ass/csv', '--la-out': './out/ass-list.csv'})"
   ]
  },
  {
   "cell_type": "markdown",
   "id": "casual-assurance",
   "metadata": {},
   "source": [
    "---"
   ]
  },
  {
   "cell_type": "markdown",
   "id": "serial-coordinate",
   "metadata": {},
   "source": [
    "## VI. Merging all Assessment-TTL files into one single OWL-TTL file \n",
    "\n",
    "The individual Assessment TTL files, produced after extraction, are merged in one single TTL file.\n",
    "\n",
    "<u>usage</u>:\n",
    "\n",
    "1. Use the parameter '_--ga-in_' to indicate the directory containing the TTL CAMSS Assessments;\n",
    "2. Use the parameter '_--ga-out_' to indicate the file path name where to save the result of the merging."
   ]
  },
  {
   "cell_type": "code",
   "execution_count": null,
   "id": "african-speed",
   "metadata": {},
   "outputs": [],
   "source": [
    "camss.run({'--ga-in': './out/ass/ttl', '--ga-out': './out/ass/ass-graph.ttl'})"
   ]
  },
  {
   "cell_type": "markdown",
   "id": "nervous-sacramento",
   "metadata": {},
   "source": [
    "---"
   ]
  },
  {
   "cell_type": "markdown",
   "id": "rolled-pocket",
   "metadata": {},
   "source": [
    "## VII. Merging all scenario and criteria-TTL files into one single OWL-TTL file \n",
    "\n",
    "The individual scenarios and criteria TTL files, produced after extraction, are merged in one single TTL file.\n",
    "\n",
    "<u>usage</u>:\n",
    "\n",
    "1. Use the parameter '_--ga-in_' to indicate the directory containing the TTL CAMSS Assessments;\n",
    "2. Use the parameter '_--ga-out_' to indicate the file path name where to save the result of the merging."
   ]
  },
  {
   "cell_type": "code",
   "execution_count": null,
   "id": "adopted-overhead",
   "metadata": {},
   "outputs": [],
   "source": [
    "camss.run({'--ga-in': './out/crit/ttl', '--ga-out': './out/crit/crit-graph.ttl'})"
   ]
  },
  {
   "cell_type": "markdown",
   "id": "signal-truck",
   "metadata": {},
   "source": [
    "---"
   ]
  },
  {
   "cell_type": "markdown",
   "id": "moving-satin",
   "metadata": {},
   "source": [
    "## VIII. Merging all specification-TTL files into one single OWL-TTL file \n",
    "\n",
    "The individual specification TTL files, produced after extraction, are merged in one single TTL file.\n",
    "\n",
    "<u>usage</u>:\n",
    "\n",
    "1. Use the parameter '_--ga-in_' to indicate the directory containing the TTL CAMSS Assessments;\n",
    "2. Use the parameter '_--ga-out_' to indicate the file path name where to save the result of the merging."
   ]
  },
  {
   "cell_type": "code",
   "execution_count": null,
   "id": "stone-causing",
   "metadata": {},
   "outputs": [],
   "source": [
    "camss.run({'--ga-in': './out/specs/ttl', '--ga-out': './out/specs/specs-graph.ttl'})"
   ]
  },
  {
   "cell_type": "markdown",
   "id": "treated-divorce",
   "metadata": {},
   "source": [
    "---"
   ]
  }
 ],
 "metadata": {
  "kernelspec": {
   "display_name": "Python 3",
   "language": "python",
   "name": "python3"
  },
  "language_info": {
   "codemirror_mode": {
    "name": "ipython",
    "version": 3
   },
   "file_extension": ".py",
   "mimetype": "text/x-python",
   "name": "python",
   "nbconvert_exporter": "python",
   "pygments_lexer": "ipython3",
   "version": "3.8.5"
  }
 },
 "nbformat": 4,
 "nbformat_minor": 5
}
