{
 "cells": [
  {
   "cell_type": "code",
   "execution_count": 39,
   "id": "enabling-uniform",
   "metadata": {},
   "outputs": [
    {
     "name": "stdout",
     "output_type": "stream",
     "text": [
      "(b'', b'')\n"
     ]
    }
   ],
   "source": [
    "from subprocess import PIPE, Popen\n",
    "process = Popen(['java', '-jar', '../rml/rmlmapper-4.9.1.jar', '-m', 'v310-eif-graph.rml', '-o', '../out/v310-eif-graph.ttl'], stdout=PIPE, stderr=PIPE)\n",
    "result = process.communicate()\n",
    "print(result)"
   ]
  },
  {
   "cell_type": "code",
   "execution_count": null,
   "id": "conscious-stewart",
   "metadata": {},
   "outputs": [],
   "source": []
  },
  {
   "cell_type": "code",
   "execution_count": null,
   "id": "herbal-abraham",
   "metadata": {},
   "outputs": [],
   "source": []
  }
 ],
 "metadata": {
  "kernelspec": {
   "display_name": "myenv",
   "language": "python",
   "name": "myenv"
  },
  "language_info": {
   "codemirror_mode": {
    "name": "ipython",
    "version": 3
   },
   "file_extension": ".py",
   "mimetype": "text/x-python",
   "name": "python",
   "nbconvert_exporter": "python",
   "pygments_lexer": "ipython3",
   "version": "3.8.5"
  }
 },
 "nbformat": 4,
 "nbformat_minor": 5
}
